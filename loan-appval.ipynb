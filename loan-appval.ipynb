{
 "cells": [
  {
   "cell_type": "code",
   "execution_count": null,
   "id": "0fa61b52",
   "metadata": {
    "papermill": {
     "duration": 0.007091,
     "end_time": "2023-07-29T16:28:22.858374",
     "exception": false,
     "start_time": "2023-07-29T16:28:22.851283",
     "status": "completed"
    },
    "tags": []
   },
   "outputs": [],
   "source": []
  },
  {
   "cell_type": "code",
   "execution_count": 1,
   "id": "17320df2",
   "metadata": {
    "_cell_guid": "b1076dfc-b9ad-4769-8c92-a6c4dae69d19",
    "_uuid": "8f2839f25d086af736a60e9eeb907d3b93b6e0e5",
    "execution": {
     "iopub.execute_input": "2023-07-29T16:28:22.874691Z",
     "iopub.status.busy": "2023-07-29T16:28:22.874266Z",
     "iopub.status.idle": "2023-07-29T16:28:22.893869Z",
     "shell.execute_reply": "2023-07-29T16:28:22.892691Z"
    },
    "papermill": {
     "duration": 0.031398,
     "end_time": "2023-07-29T16:28:22.896915",
     "exception": false,
     "start_time": "2023-07-29T16:28:22.865517",
     "status": "completed"
    },
    "tags": []
   },
   "outputs": [
    {
     "name": "stdout",
     "output_type": "stream",
     "text": [
      "/kaggle/input/loan-approval-prediction-dataset/loan_approval_dataset.csv\n"
     ]
    }
   ],
   "source": [
    "# This Python 3 environment comes with many helpful analytics libraries installed\n",
    "# It is defined by the kaggle/python Docker image: https://github.com/kaggle/docker-python\n",
    "# For example, here's several helpful packages to load\n",
    "\n",
    "import numpy as np # linear algebra\n",
    "import pandas as pd # data processing, CSV file I/O (e.g. pd.read_csv)\n",
    "\n",
    "# Input data files are available in the read-only \"../input/\" directory\n",
    "# For example, running this (by clicking run or pressing Shift+Enter) will list all files under the input directory\n",
    "\n",
    "import os\n",
    "for dirname, _, filenames in os.walk('/kaggle/input'):\n",
    "    for filename in filenames:\n",
    "        print(os.path.join(dirname, filename))\n",
    "\n",
    "# You can write up to 20GB to the current directory (/kaggle/working/) that gets preserved as output when you create a version using \"Save & Run All\" \n",
    "# You can also write temporary files to /kaggle/temp/, but they won't be saved outside of the current session"
   ]
  },
  {
   "cell_type": "code",
   "execution_count": 2,
   "id": "8ad7b75c",
   "metadata": {
    "execution": {
     "iopub.execute_input": "2023-07-29T16:28:22.912005Z",
     "iopub.status.busy": "2023-07-29T16:28:22.911377Z",
     "iopub.status.idle": "2023-07-29T16:28:27.803066Z",
     "shell.execute_reply": "2023-07-29T16:28:27.801529Z"
    },
    "papermill": {
     "duration": 4.902311,
     "end_time": "2023-07-29T16:28:27.805914",
     "exception": false,
     "start_time": "2023-07-29T16:28:22.903603",
     "status": "completed"
    },
    "tags": []
   },
   "outputs": [
    {
     "name": "stderr",
     "output_type": "stream",
     "text": [
      "/opt/conda/lib/python3.10/site-packages/scipy/__init__.py:146: UserWarning: A NumPy version >=1.16.5 and <1.23.0 is required for this version of SciPy (detected version 1.23.5\n",
      "  warnings.warn(f\"A NumPy version >={np_minversion} and <{np_maxversion}\"\n"
     ]
    }
   ],
   "source": [
    "import torch\n",
    "from sklearn.preprocessing import MinMaxScaler ,LabelEncoder"
   ]
  },
  {
   "cell_type": "markdown",
   "id": "7dcd4dd6",
   "metadata": {
    "papermill": {
     "duration": 0.005957,
     "end_time": "2023-07-29T16:28:27.818495",
     "exception": false,
     "start_time": "2023-07-29T16:28:27.812538",
     "status": "completed"
    },
    "tags": []
   },
   "source": [
    "# Preprocessed data"
   ]
  },
  {
   "cell_type": "code",
   "execution_count": 3,
   "id": "66a5489a",
   "metadata": {
    "execution": {
     "iopub.execute_input": "2023-07-29T16:28:27.833329Z",
     "iopub.status.busy": "2023-07-29T16:28:27.832648Z",
     "iopub.status.idle": "2023-07-29T16:28:27.908230Z",
     "shell.execute_reply": "2023-07-29T16:28:27.906995Z"
    },
    "papermill": {
     "duration": 0.086305,
     "end_time": "2023-07-29T16:28:27.911130",
     "exception": false,
     "start_time": "2023-07-29T16:28:27.824825",
     "status": "completed"
    },
    "tags": []
   },
   "outputs": [
    {
     "data": {
      "text/html": [
       "<div>\n",
       "<style scoped>\n",
       "    .dataframe tbody tr th:only-of-type {\n",
       "        vertical-align: middle;\n",
       "    }\n",
       "\n",
       "    .dataframe tbody tr th {\n",
       "        vertical-align: top;\n",
       "    }\n",
       "\n",
       "    .dataframe thead th {\n",
       "        text-align: right;\n",
       "    }\n",
       "</style>\n",
       "<table border=\"1\" class=\"dataframe\">\n",
       "  <thead>\n",
       "    <tr style=\"text-align: right;\">\n",
       "      <th></th>\n",
       "      <th>no_of_dependents</th>\n",
       "      <th>education</th>\n",
       "      <th>self_employed</th>\n",
       "      <th>income_annum</th>\n",
       "      <th>loan_amount</th>\n",
       "      <th>loan_term</th>\n",
       "      <th>cibil_score</th>\n",
       "      <th>residential_assets_value</th>\n",
       "      <th>commercial_assets_value</th>\n",
       "      <th>luxury_assets_value</th>\n",
       "      <th>bank_asset_value</th>\n",
       "      <th>loan_status</th>\n",
       "    </tr>\n",
       "    <tr>\n",
       "      <th>loan_id</th>\n",
       "      <th></th>\n",
       "      <th></th>\n",
       "      <th></th>\n",
       "      <th></th>\n",
       "      <th></th>\n",
       "      <th></th>\n",
       "      <th></th>\n",
       "      <th></th>\n",
       "      <th></th>\n",
       "      <th></th>\n",
       "      <th></th>\n",
       "      <th></th>\n",
       "    </tr>\n",
       "  </thead>\n",
       "  <tbody>\n",
       "    <tr>\n",
       "      <th>1</th>\n",
       "      <td>2</td>\n",
       "      <td>Graduate</td>\n",
       "      <td>No</td>\n",
       "      <td>9600000</td>\n",
       "      <td>29900000</td>\n",
       "      <td>12</td>\n",
       "      <td>778</td>\n",
       "      <td>2400000</td>\n",
       "      <td>17600000</td>\n",
       "      <td>22700000</td>\n",
       "      <td>8000000</td>\n",
       "      <td>Approved</td>\n",
       "    </tr>\n",
       "    <tr>\n",
       "      <th>2</th>\n",
       "      <td>0</td>\n",
       "      <td>Not Graduate</td>\n",
       "      <td>Yes</td>\n",
       "      <td>4100000</td>\n",
       "      <td>12200000</td>\n",
       "      <td>8</td>\n",
       "      <td>417</td>\n",
       "      <td>2700000</td>\n",
       "      <td>2200000</td>\n",
       "      <td>8800000</td>\n",
       "      <td>3300000</td>\n",
       "      <td>Rejected</td>\n",
       "    </tr>\n",
       "    <tr>\n",
       "      <th>3</th>\n",
       "      <td>3</td>\n",
       "      <td>Graduate</td>\n",
       "      <td>No</td>\n",
       "      <td>9100000</td>\n",
       "      <td>29700000</td>\n",
       "      <td>20</td>\n",
       "      <td>506</td>\n",
       "      <td>7100000</td>\n",
       "      <td>4500000</td>\n",
       "      <td>33300000</td>\n",
       "      <td>12800000</td>\n",
       "      <td>Rejected</td>\n",
       "    </tr>\n",
       "    <tr>\n",
       "      <th>4</th>\n",
       "      <td>3</td>\n",
       "      <td>Graduate</td>\n",
       "      <td>No</td>\n",
       "      <td>8200000</td>\n",
       "      <td>30700000</td>\n",
       "      <td>8</td>\n",
       "      <td>467</td>\n",
       "      <td>18200000</td>\n",
       "      <td>3300000</td>\n",
       "      <td>23300000</td>\n",
       "      <td>7900000</td>\n",
       "      <td>Rejected</td>\n",
       "    </tr>\n",
       "    <tr>\n",
       "      <th>5</th>\n",
       "      <td>5</td>\n",
       "      <td>Not Graduate</td>\n",
       "      <td>Yes</td>\n",
       "      <td>9800000</td>\n",
       "      <td>24200000</td>\n",
       "      <td>20</td>\n",
       "      <td>382</td>\n",
       "      <td>12400000</td>\n",
       "      <td>8200000</td>\n",
       "      <td>29400000</td>\n",
       "      <td>5000000</td>\n",
       "      <td>Rejected</td>\n",
       "    </tr>\n",
       "    <tr>\n",
       "      <th>...</th>\n",
       "      <td>...</td>\n",
       "      <td>...</td>\n",
       "      <td>...</td>\n",
       "      <td>...</td>\n",
       "      <td>...</td>\n",
       "      <td>...</td>\n",
       "      <td>...</td>\n",
       "      <td>...</td>\n",
       "      <td>...</td>\n",
       "      <td>...</td>\n",
       "      <td>...</td>\n",
       "      <td>...</td>\n",
       "    </tr>\n",
       "    <tr>\n",
       "      <th>4265</th>\n",
       "      <td>5</td>\n",
       "      <td>Graduate</td>\n",
       "      <td>Yes</td>\n",
       "      <td>1000000</td>\n",
       "      <td>2300000</td>\n",
       "      <td>12</td>\n",
       "      <td>317</td>\n",
       "      <td>2800000</td>\n",
       "      <td>500000</td>\n",
       "      <td>3300000</td>\n",
       "      <td>800000</td>\n",
       "      <td>Rejected</td>\n",
       "    </tr>\n",
       "    <tr>\n",
       "      <th>4266</th>\n",
       "      <td>0</td>\n",
       "      <td>Not Graduate</td>\n",
       "      <td>Yes</td>\n",
       "      <td>3300000</td>\n",
       "      <td>11300000</td>\n",
       "      <td>20</td>\n",
       "      <td>559</td>\n",
       "      <td>4200000</td>\n",
       "      <td>2900000</td>\n",
       "      <td>11000000</td>\n",
       "      <td>1900000</td>\n",
       "      <td>Approved</td>\n",
       "    </tr>\n",
       "    <tr>\n",
       "      <th>4267</th>\n",
       "      <td>2</td>\n",
       "      <td>Not Graduate</td>\n",
       "      <td>No</td>\n",
       "      <td>6500000</td>\n",
       "      <td>23900000</td>\n",
       "      <td>18</td>\n",
       "      <td>457</td>\n",
       "      <td>1200000</td>\n",
       "      <td>12400000</td>\n",
       "      <td>18100000</td>\n",
       "      <td>7300000</td>\n",
       "      <td>Rejected</td>\n",
       "    </tr>\n",
       "    <tr>\n",
       "      <th>4268</th>\n",
       "      <td>1</td>\n",
       "      <td>Not Graduate</td>\n",
       "      <td>No</td>\n",
       "      <td>4100000</td>\n",
       "      <td>12800000</td>\n",
       "      <td>8</td>\n",
       "      <td>780</td>\n",
       "      <td>8200000</td>\n",
       "      <td>700000</td>\n",
       "      <td>14100000</td>\n",
       "      <td>5800000</td>\n",
       "      <td>Approved</td>\n",
       "    </tr>\n",
       "    <tr>\n",
       "      <th>4269</th>\n",
       "      <td>1</td>\n",
       "      <td>Graduate</td>\n",
       "      <td>No</td>\n",
       "      <td>9200000</td>\n",
       "      <td>29700000</td>\n",
       "      <td>10</td>\n",
       "      <td>607</td>\n",
       "      <td>17800000</td>\n",
       "      <td>11800000</td>\n",
       "      <td>35700000</td>\n",
       "      <td>12000000</td>\n",
       "      <td>Approved</td>\n",
       "    </tr>\n",
       "  </tbody>\n",
       "</table>\n",
       "<p>4269 rows × 12 columns</p>\n",
       "</div>"
      ],
      "text/plain": [
       "          no_of_dependents      education  self_employed   income_annum  \\\n",
       "loan_id                                                                   \n",
       "1                        2       Graduate             No        9600000   \n",
       "2                        0   Not Graduate            Yes        4100000   \n",
       "3                        3       Graduate             No        9100000   \n",
       "4                        3       Graduate             No        8200000   \n",
       "5                        5   Not Graduate            Yes        9800000   \n",
       "...                    ...            ...            ...            ...   \n",
       "4265                     5       Graduate            Yes        1000000   \n",
       "4266                     0   Not Graduate            Yes        3300000   \n",
       "4267                     2   Not Graduate             No        6500000   \n",
       "4268                     1   Not Graduate             No        4100000   \n",
       "4269                     1       Graduate             No        9200000   \n",
       "\n",
       "          loan_amount   loan_term   cibil_score   residential_assets_value  \\\n",
       "loan_id                                                                      \n",
       "1            29900000          12           778                    2400000   \n",
       "2            12200000           8           417                    2700000   \n",
       "3            29700000          20           506                    7100000   \n",
       "4            30700000           8           467                   18200000   \n",
       "5            24200000          20           382                   12400000   \n",
       "...               ...         ...           ...                        ...   \n",
       "4265          2300000          12           317                    2800000   \n",
       "4266         11300000          20           559                    4200000   \n",
       "4267         23900000          18           457                    1200000   \n",
       "4268         12800000           8           780                    8200000   \n",
       "4269         29700000          10           607                   17800000   \n",
       "\n",
       "          commercial_assets_value   luxury_assets_value   bank_asset_value  \\\n",
       "loan_id                                                                      \n",
       "1                        17600000              22700000            8000000   \n",
       "2                         2200000               8800000            3300000   \n",
       "3                         4500000              33300000           12800000   \n",
       "4                         3300000              23300000            7900000   \n",
       "5                         8200000              29400000            5000000   \n",
       "...                           ...                   ...                ...   \n",
       "4265                       500000               3300000             800000   \n",
       "4266                      2900000              11000000            1900000   \n",
       "4267                     12400000              18100000            7300000   \n",
       "4268                       700000              14100000            5800000   \n",
       "4269                     11800000              35700000           12000000   \n",
       "\n",
       "         loan_status  \n",
       "loan_id               \n",
       "1           Approved  \n",
       "2           Rejected  \n",
       "3           Rejected  \n",
       "4           Rejected  \n",
       "5           Rejected  \n",
       "...              ...  \n",
       "4265        Rejected  \n",
       "4266        Approved  \n",
       "4267        Rejected  \n",
       "4268        Approved  \n",
       "4269        Approved  \n",
       "\n",
       "[4269 rows x 12 columns]"
      ]
     },
     "execution_count": 3,
     "metadata": {},
     "output_type": "execute_result"
    }
   ],
   "source": [
    "df = pd.read_csv('/kaggle/input/loan-approval-prediction-dataset/loan_approval_dataset.csv',index_col = 'loan_id')\n",
    "df"
   ]
  },
  {
   "cell_type": "code",
   "execution_count": 4,
   "id": "f3cfbdea",
   "metadata": {
    "execution": {
     "iopub.execute_input": "2023-07-29T16:28:27.927640Z",
     "iopub.status.busy": "2023-07-29T16:28:27.927245Z",
     "iopub.status.idle": "2023-07-29T16:28:27.953982Z",
     "shell.execute_reply": "2023-07-29T16:28:27.952803Z"
    },
    "papermill": {
     "duration": 0.038227,
     "end_time": "2023-07-29T16:28:27.956595",
     "exception": false,
     "start_time": "2023-07-29T16:28:27.918368",
     "status": "completed"
    },
    "tags": []
   },
   "outputs": [
    {
     "data": {
      "text/plain": [
       " no_of_dependents            0\n",
       " education                   0\n",
       " self_employed               0\n",
       " income_annum                0\n",
       " loan_amount                 0\n",
       " loan_term                   0\n",
       " cibil_score                 0\n",
       " residential_assets_value    0\n",
       " commercial_assets_value     0\n",
       " luxury_assets_value         0\n",
       " bank_asset_value            0\n",
       " loan_status                 0\n",
       "dtype: int64"
      ]
     },
     "execution_count": 4,
     "metadata": {},
     "output_type": "execute_result"
    }
   ],
   "source": [
    "df[df.isna() == True].count()"
   ]
  },
  {
   "cell_type": "markdown",
   "id": "41a12007",
   "metadata": {
    "papermill": {
     "duration": 0.006614,
     "end_time": "2023-07-29T16:28:27.970591",
     "exception": false,
     "start_time": "2023-07-29T16:28:27.963977",
     "status": "completed"
    },
    "tags": []
   },
   "source": [
    "# Note here there is a problem in dataset column as there is space in names which cause problem so let us rename the columns."
   ]
  },
  {
   "cell_type": "code",
   "execution_count": 5,
   "id": "fad13b45",
   "metadata": {
    "execution": {
     "iopub.execute_input": "2023-07-29T16:28:27.986616Z",
     "iopub.status.busy": "2023-07-29T16:28:27.985879Z",
     "iopub.status.idle": "2023-07-29T16:28:27.995044Z",
     "shell.execute_reply": "2023-07-29T16:28:27.994220Z"
    },
    "papermill": {
     "duration": 0.020005,
     "end_time": "2023-07-29T16:28:27.997451",
     "exception": false,
     "start_time": "2023-07-29T16:28:27.977446",
     "status": "completed"
    },
    "tags": []
   },
   "outputs": [],
   "source": [
    "df.rename(columns = {' no_of_dependents': 'no_of_dependents',\n",
    "                     ' education' : 'education', \n",
    "                     ' self_employed' : 'self_employed',\n",
    "                     ' income_annum' : 'income_annum',\n",
    "                     ' loan_amount' : 'loan_amount',\n",
    "                     ' loan_term' :'loan_term',\n",
    "                     ' cibil_score' : 'cibil_score',\n",
    "                     ' residential_assets_value' : 'residential_assets_value', \n",
    "                     ' commercial_assets_value' : 'commercial_assets_value',\n",
    "                     ' luxury_assets_value' : 'luxury_assets_value',\n",
    "                     ' bank_asset_value' : 'bank_asset_value',\n",
    "                     ' loan_status' : 'loan_status'}, \n",
    "                      inplace = True)\n",
    "df.columns\n",
    "col = ['no_of_dependents', 'income_annum', 'loan_amount', 'loan_term',\n",
    "       'cibil_score', 'residential_assets_value', 'commercial_assets_value',\n",
    "       'luxury_assets_value', 'bank_asset_value', 'education_ Graduate',\n",
    "       'education_ Not Graduate', 'self_employed_ No', 'self_employed_ Yes',\n",
    "       'Total_assets_value']\n",
    "Scaling = ['residential_assets_value','commercial_assets_value',\t'luxury_assets_value'\t,'bank_asset_value']"
   ]
  },
  {
   "cell_type": "code",
   "execution_count": 6,
   "id": "0b691fe2",
   "metadata": {
    "execution": {
     "iopub.execute_input": "2023-07-29T16:28:28.013808Z",
     "iopub.status.busy": "2023-07-29T16:28:28.013385Z",
     "iopub.status.idle": "2023-07-29T16:28:28.040741Z",
     "shell.execute_reply": "2023-07-29T16:28:28.039441Z"
    },
    "papermill": {
     "duration": 0.03916,
     "end_time": "2023-07-29T16:28:28.043858",
     "exception": false,
     "start_time": "2023-07-29T16:28:28.004698",
     "status": "completed"
    },
    "tags": []
   },
   "outputs": [],
   "source": [
    "label_encoder  =LabelEncoder()\n",
    "mx = MinMaxScaler()\n",
    "def preprocess(df):\n",
    "    y = df.pop('loan_status')\n",
    "    y = label_encoder.fit_transform(y)\n",
    "    \n",
    "    df = pd.get_dummies(df)\n",
    "    \n",
    "    df['Total_assets_value'] = 0\n",
    "    for i in Scaling:\n",
    "        df['Total_assets_value'] += df[i] \n",
    "    \n",
    "    df[col]=mx.fit_transform(df[col])\n",
    "    df = df.drop(columns = Scaling)\n",
    "    \n",
    "    \n",
    "    \n",
    "    return df,y\n",
    "\n",
    "df,y = preprocess(df)"
   ]
  },
  {
   "cell_type": "markdown",
   "id": "0badffc1",
   "metadata": {
    "papermill": {
     "duration": 0.00711,
     "end_time": "2023-07-29T16:28:28.058073",
     "exception": false,
     "start_time": "2023-07-29T16:28:28.050963",
     "status": "completed"
    },
    "tags": []
   },
   "source": [
    "## Graphing"
   ]
  },
  {
   "cell_type": "code",
   "execution_count": 7,
   "id": "1f0301da",
   "metadata": {
    "execution": {
     "iopub.execute_input": "2023-07-29T16:28:28.076784Z",
     "iopub.status.busy": "2023-07-29T16:28:28.076042Z",
     "iopub.status.idle": "2023-07-29T16:28:28.545538Z",
     "shell.execute_reply": "2023-07-29T16:28:28.544418Z"
    },
    "papermill": {
     "duration": 0.481672,
     "end_time": "2023-07-29T16:28:28.548370",
     "exception": false,
     "start_time": "2023-07-29T16:28:28.066698",
     "status": "completed"
    },
    "tags": []
   },
   "outputs": [],
   "source": [
    "import seaborn as sns\n",
    "import matplotlib.pyplot as plt"
   ]
  },
  {
   "cell_type": "code",
   "execution_count": 8,
   "id": "9949568f",
   "metadata": {
    "execution": {
     "iopub.execute_input": "2023-07-29T16:28:28.564246Z",
     "iopub.status.busy": "2023-07-29T16:28:28.563790Z",
     "iopub.status.idle": "2023-07-29T16:28:30.392619Z",
     "shell.execute_reply": "2023-07-29T16:28:30.391229Z"
    },
    "papermill": {
     "duration": 1.840826,
     "end_time": "2023-07-29T16:28:30.396321",
     "exception": false,
     "start_time": "2023-07-29T16:28:28.555495",
     "status": "completed"
    },
    "tags": []
   },
   "outputs": [
    {
     "data": {
      "text/plain": [
       "<Axes: ylabel='no_of_dependents'>"
      ]
     },
     "execution_count": 8,
     "metadata": {},
     "output_type": "execute_result"
    },
    {
     "data": {
      "image/png": "[encoded data removed]",
      "text/plain": [
       "<Figure size 1800x1000 with 6 Axes>"
      ]
     },
     "metadata": {},
     "output_type": "display_data"
    }
   ],
   "source": [
    "\n",
    "fig, axes = plt.subplots(2, 3, figsize=(18, 10))\n",
    "fig.suptitle('Comparision')\n",
    "sns.barplot( ax=axes[0, 0] ,x=y, y=df['Total_assets_value'])\n",
    "sns.barplot( ax=axes[0, 1] ,x=y, y=df['income_annum'])\n",
    "sns.barplot( ax=axes[0, 2] ,x=y, y=df['loan_amount'])\n",
    "sns.barplot( ax=axes[1, 0] ,x=y, y=df['loan_term'])\n",
    "sns.barplot( ax=axes[1, 1] ,x=y, y=df['cibil_score'])\n",
    "sns.barplot( ax=axes[1, 2] ,x=y, y=df['no_of_dependents'])"
   ]
  },
  {
   "cell_type": "markdown",
   "id": "45efb4c0",
   "metadata": {
    "papermill": {
     "duration": 0.008374,
     "end_time": "2023-07-29T16:28:30.413455",
     "exception": false,
     "start_time": "2023-07-29T16:28:30.405081",
     "status": "completed"
    },
    "tags": []
   },
   "source": [
    "# Modeling"
   ]
  },
  {
   "cell_type": "code",
   "execution_count": 9,
   "id": "3580d164",
   "metadata": {
    "execution": {
     "iopub.execute_input": "2023-07-29T16:28:30.434050Z",
     "iopub.status.busy": "2023-07-29T16:28:30.433633Z",
     "iopub.status.idle": "2023-07-29T16:28:30.559916Z",
     "shell.execute_reply": "2023-07-29T16:28:30.558422Z"
    },
    "papermill": {
     "duration": 0.140244,
     "end_time": "2023-07-29T16:28:30.563347",
     "exception": false,
     "start_time": "2023-07-29T16:28:30.423103",
     "status": "completed"
    },
    "tags": []
   },
   "outputs": [],
   "source": [
    "import torch\n",
    "torch.__version__\n",
    "from sklearn.model_selection import train_test_split"
   ]
  },
  {
   "cell_type": "code",
   "execution_count": 10,
   "id": "bebb70af",
   "metadata": {
    "execution": {
     "iopub.execute_input": "2023-07-29T16:28:30.584495Z",
     "iopub.status.busy": "2023-07-29T16:28:30.583931Z",
     "iopub.status.idle": "2023-07-29T16:28:30.594685Z",
     "shell.execute_reply": "2023-07-29T16:28:30.592862Z"
    },
    "papermill": {
     "duration": 0.025062,
     "end_time": "2023-07-29T16:28:30.598042",
     "exception": false,
     "start_time": "2023-07-29T16:28:30.572980",
     "status": "completed"
    },
    "tags": []
   },
   "outputs": [],
   "source": [
    "X_train, X_test,y_train, y_test = train_test_split(df,y ,\n",
    "                                   random_state=104, \n",
    "                                   test_size=0.25, \n",
    "                                   shuffle=True)"
   ]
  },
  {
   "cell_type": "code",
   "execution_count": 11,
   "id": "44fdf3cc",
   "metadata": {
    "execution": {
     "iopub.execute_input": "2023-07-29T16:28:30.618712Z",
     "iopub.status.busy": "2023-07-29T16:28:30.617910Z",
     "iopub.status.idle": "2023-07-29T16:28:30.627647Z",
     "shell.execute_reply": "2023-07-29T16:28:30.626184Z"
    },
    "papermill": {
     "duration": 0.02355,
     "end_time": "2023-07-29T16:28:30.630609",
     "exception": false,
     "start_time": "2023-07-29T16:28:30.607059",
     "status": "completed"
    },
    "tags": []
   },
   "outputs": [
    {
     "data": {
      "text/plain": [
       "array([[0.4       , 0.96907216, 0.75510204, ..., 1.        , 0.        ,\n",
       "        0.55703212],\n",
       "       [0.        , 0.40206186, 0.30357143, ..., 0.        , 1.        ,\n",
       "        0.18383167],\n",
       "       [0.6       , 0.91752577, 0.75      , ..., 1.        , 0.        ,\n",
       "        0.6345515 ],\n",
       "       ...,\n",
       "       [0.4       , 0.64948454, 0.60204082, ..., 1.        , 0.        ,\n",
       "        0.42746401],\n",
       "       [0.2       , 0.40206186, 0.31887755, ..., 1.        , 0.        ,\n",
       "        0.3145072 ],\n",
       "       [0.2       , 0.92783505, 0.75      , ..., 1.        , 0.        ,\n",
       "        0.85160576]])"
      ]
     },
     "execution_count": 11,
     "metadata": {},
     "output_type": "execute_result"
    }
   ],
   "source": [
    " df.values"
   ]
  },
  {
   "cell_type": "code",
   "execution_count": 12,
   "id": "eab1050f",
   "metadata": {
    "execution": {
     "iopub.execute_input": "2023-07-29T16:28:30.650306Z",
     "iopub.status.busy": "2023-07-29T16:28:30.649826Z",
     "iopub.status.idle": "2023-07-29T16:28:30.695290Z",
     "shell.execute_reply": "2023-07-29T16:28:30.693732Z"
    },
    "papermill": {
     "duration": 0.059391,
     "end_time": "2023-07-29T16:28:30.698981",
     "exception": false,
     "start_time": "2023-07-29T16:28:30.639590",
     "status": "completed"
    },
    "tags": []
   },
   "outputs": [],
   "source": [
    "\n",
    "X_train = torch.tensor(X_train.values, dtype=torch.float32)\n",
    "X_test = torch.tensor(X_test.values, dtype=torch.float32)\n",
    "y_train = torch.tensor(y_train, dtype=torch.float32)\n",
    "y_test = torch.tensor(y_test, dtype=torch.float32)"
   ]
  },
  {
   "cell_type": "code",
   "execution_count": 13,
   "id": "820b2fd3",
   "metadata": {
    "execution": {
     "iopub.execute_input": "2023-07-29T16:28:30.721571Z",
     "iopub.status.busy": "2023-07-29T16:28:30.720026Z",
     "iopub.status.idle": "2023-07-29T16:28:30.726214Z",
     "shell.execute_reply": "2023-07-29T16:28:30.724906Z"
    },
    "papermill": {
     "duration": 0.020213,
     "end_time": "2023-07-29T16:28:30.728727",
     "exception": false,
     "start_time": "2023-07-29T16:28:30.708514",
     "status": "completed"
    },
    "tags": []
   },
   "outputs": [],
   "source": [
    "#continue from 9:24\n",
    "#https://www.youtube.com/watch?v=V_xro1bcAuA&t=29614s"
   ]
  }
 ],
 "metadata": {
  "kernelspec": {
   "display_name": "Python 3",
   "language": "python",
   "name": "python3"
  },
  "language_info": {
   "codemirror_mode": {
    "name": "ipython",
    "version": 3
   },
   "file_extension": ".py",
   "mimetype": "text/x-python",
   "name": "python",
   "nbconvert_exporter": "python",
   "pygments_lexer": "ipython3",
   "version": "3.10.12"
  },
  "papermill": {
   "default_parameters": {},
   "duration": 24.753296,
   "end_time": "2023-07-29T16:28:33.185130",
   "environment_variables": {},
   "exception": null,
   "input_path": "__notebook__.ipynb",
   "output_path": "__notebook__.ipynb",
   "parameters": {},
   "start_time": "2023-07-29T16:28:08.431834",
   "version": "2.4.0"
  }
 },
 "nbformat": 4,
 "nbformat_minor": 5
}
