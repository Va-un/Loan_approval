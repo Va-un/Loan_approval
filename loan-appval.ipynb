{
 "cells": [
  {
   "cell_type": "code",
   "execution_count": null,
   "id": "fe7d6be4",
   "metadata": {
    "papermill": {
     "duration": 0.007982,
     "end_time": "2023-07-31T11:44:22.327546",
     "exception": false,
     "start_time": "2023-07-31T11:44:22.319564",
     "status": "completed"
    },
    "tags": []
   },
   "outputs": [],
   "source": []
  },
  {
   "cell_type": "code",
   "execution_count": 1,
   "id": "56d357a7",
   "metadata": {
    "_cell_guid": "b1076dfc-b9ad-4769-8c92-a6c4dae69d19",
    "_uuid": "8f2839f25d086af736a60e9eeb907d3b93b6e0e5",
    "execution": {
     "iopub.execute_input": "2023-07-31T11:44:22.344379Z",
     "iopub.status.busy": "2023-07-31T11:44:22.343990Z",
     "iopub.status.idle": "2023-07-31T11:44:22.370862Z",
     "shell.execute_reply": "2023-07-31T11:44:22.369785Z"
    },
    "papermill": {
     "duration": 0.038682,
     "end_time": "2023-07-31T11:44:22.373707",
     "exception": false,
     "start_time": "2023-07-31T11:44:22.335025",
     "status": "completed"
    },
    "tags": []
   },
   "outputs": [
    {
     "name": "stdout",
     "output_type": "stream",
     "text": [
      "/kaggle/input/loan-approval-prediction-dataset/loan_approval_dataset.csv\n"
     ]
    }
   ],
   "source": [
    "# This Python 3 environment comes with many helpful analytics libraries installed\n",
    "# It is defined by the kaggle/python Docker image: https://github.com/kaggle/docker-python\n",
    "# For example, here's several helpful packages to load\n",
    "\n",
    "import numpy as np # linear algebra\n",
    "import pandas as pd # data processing, CSV file I/O (e.g. pd.read_csv)\n",
    "\n",
    "# Input data files are available in the read-only \"../input/\" directory\n",
    "# For example, running this (by clicking run or pressing Shift+Enter) will list all files under the input directory\n",
    "\n",
    "import os\n",
    "for dirname, _, filenames in os.walk('/kaggle/input'):\n",
    "    for filename in filenames:\n",
    "        print(os.path.join(dirname, filename))\n",
    "\n",
    "# You can write up to 20GB to the current directory (/kaggle/working/) that gets preserved as output when you create a version using \"Save & Run All\" \n",
    "# You can also write temporary files to /kaggle/temp/, but they won't be saved outside of the current session"
   ]
  },
  {
   "cell_type": "code",
   "execution_count": 2,
   "id": "9b701fab",
   "metadata": {
    "execution": {
     "iopub.execute_input": "2023-07-31T11:44:22.390706Z",
     "iopub.status.busy": "2023-07-31T11:44:22.390304Z",
     "iopub.status.idle": "2023-07-31T11:44:26.742570Z",
     "shell.execute_reply": "2023-07-31T11:44:26.741319Z"
    },
    "papermill": {
     "duration": 4.36433,
     "end_time": "2023-07-31T11:44:26.745566",
     "exception": false,
     "start_time": "2023-07-31T11:44:22.381236",
     "status": "completed"
    },
    "tags": []
   },
   "outputs": [
    {
     "name": "stderr",
     "output_type": "stream",
     "text": [
      "/opt/conda/lib/python3.10/site-packages/scipy/__init__.py:146: UserWarning: A NumPy version >=1.16.5 and <1.23.0 is required for this version of SciPy (detected version 1.23.5\n",
      "  warnings.warn(f\"A NumPy version >={np_minversion} and <{np_maxversion}\"\n"
     ]
    }
   ],
   "source": [
    "import torch\n",
    "from sklearn.preprocessing import MinMaxScaler ,LabelEncoder"
   ]
  },
  {
   "cell_type": "markdown",
   "id": "8bee9520",
   "metadata": {
    "papermill": {
     "duration": 0.007562,
     "end_time": "2023-07-31T11:44:26.761599",
     "exception": false,
     "start_time": "2023-07-31T11:44:26.754037",
     "status": "completed"
    },
    "tags": []
   },
   "source": [
    "# Preprocessed data"
   ]
  },
  {
   "cell_type": "code",
   "execution_count": 3,
   "id": "3b4a75b0",
   "metadata": {
    "execution": {
     "iopub.execute_input": "2023-07-31T11:44:26.779792Z",
     "iopub.status.busy": "2023-07-31T11:44:26.778642Z",
     "iopub.status.idle": "2023-07-31T11:44:26.857153Z",
     "shell.execute_reply": "2023-07-31T11:44:26.855913Z"
    },
    "papermill": {
     "duration": 0.090803,
     "end_time": "2023-07-31T11:44:26.860140",
     "exception": false,
     "start_time": "2023-07-31T11:44:26.769337",
     "status": "completed"
    },
    "tags": []
   },
   "outputs": [
    {
     "data": {
      "text/html": [
       "<div>\n",
       "<style scoped>\n",
       "    .dataframe tbody tr th:only-of-type {\n",
       "        vertical-align: middle;\n",
       "    }\n",
       "\n",
       "    .dataframe tbody tr th {\n",
       "        vertical-align: top;\n",
       "    }\n",
       "\n",
       "    .dataframe thead th {\n",
       "        text-align: right;\n",
       "    }\n",
       "</style>\n",
       "<table border=\"1\" class=\"dataframe\">\n",
       "  <thead>\n",
       "    <tr style=\"text-align: right;\">\n",
       "      <th></th>\n",
       "      <th>no_of_dependents</th>\n",
       "      <th>education</th>\n",
       "      <th>self_employed</th>\n",
       "      <th>income_annum</th>\n",
       "      <th>loan_amount</th>\n",
       "      <th>loan_term</th>\n",
       "      <th>cibil_score</th>\n",
       "      <th>residential_assets_value</th>\n",
       "      <th>commercial_assets_value</th>\n",
       "      <th>luxury_assets_value</th>\n",
       "      <th>bank_asset_value</th>\n",
       "      <th>loan_status</th>\n",
       "    </tr>\n",
       "    <tr>\n",
       "      <th>loan_id</th>\n",
       "      <th></th>\n",
       "      <th></th>\n",
       "      <th></th>\n",
       "      <th></th>\n",
       "      <th></th>\n",
       "      <th></th>\n",
       "      <th></th>\n",
       "      <th></th>\n",
       "      <th></th>\n",
       "      <th></th>\n",
       "      <th></th>\n",
       "      <th></th>\n",
       "    </tr>\n",
       "  </thead>\n",
       "  <tbody>\n",
       "    <tr>\n",
       "      <th>1</th>\n",
       "      <td>2</td>\n",
       "      <td>Graduate</td>\n",
       "      <td>No</td>\n",
       "      <td>9600000</td>\n",
       "      <td>29900000</td>\n",
       "      <td>12</td>\n",
       "      <td>778</td>\n",
       "      <td>2400000</td>\n",
       "      <td>17600000</td>\n",
       "      <td>22700000</td>\n",
       "      <td>8000000</td>\n",
       "      <td>Approved</td>\n",
       "    </tr>\n",
       "    <tr>\n",
       "      <th>2</th>\n",
       "      <td>0</td>\n",
       "      <td>Not Graduate</td>\n",
       "      <td>Yes</td>\n",
       "      <td>4100000</td>\n",
       "      <td>12200000</td>\n",
       "      <td>8</td>\n",
       "      <td>417</td>\n",
       "      <td>2700000</td>\n",
       "      <td>2200000</td>\n",
       "      <td>8800000</td>\n",
       "      <td>3300000</td>\n",
       "      <td>Rejected</td>\n",
       "    </tr>\n",
       "    <tr>\n",
       "      <th>3</th>\n",
       "      <td>3</td>\n",
       "      <td>Graduate</td>\n",
       "      <td>No</td>\n",
       "      <td>9100000</td>\n",
       "      <td>29700000</td>\n",
       "      <td>20</td>\n",
       "      <td>506</td>\n",
       "      <td>7100000</td>\n",
       "      <td>4500000</td>\n",
       "      <td>33300000</td>\n",
       "      <td>12800000</td>\n",
       "      <td>Rejected</td>\n",
       "    </tr>\n",
       "    <tr>\n",
       "      <th>4</th>\n",
       "      <td>3</td>\n",
       "      <td>Graduate</td>\n",
       "      <td>No</td>\n",
       "      <td>8200000</td>\n",
       "      <td>30700000</td>\n",
       "      <td>8</td>\n",
       "      <td>467</td>\n",
       "      <td>18200000</td>\n",
       "      <td>3300000</td>\n",
       "      <td>23300000</td>\n",
       "      <td>7900000</td>\n",
       "      <td>Rejected</td>\n",
       "    </tr>\n",
       "    <tr>\n",
       "      <th>5</th>\n",
       "      <td>5</td>\n",
       "      <td>Not Graduate</td>\n",
       "      <td>Yes</td>\n",
       "      <td>9800000</td>\n",
       "      <td>24200000</td>\n",
       "      <td>20</td>\n",
       "      <td>382</td>\n",
       "      <td>12400000</td>\n",
       "      <td>8200000</td>\n",
       "      <td>29400000</td>\n",
       "      <td>5000000</td>\n",
       "      <td>Rejected</td>\n",
       "    </tr>\n",
       "    <tr>\n",
       "      <th>...</th>\n",
       "      <td>...</td>\n",
       "      <td>...</td>\n",
       "      <td>...</td>\n",
       "      <td>...</td>\n",
       "      <td>...</td>\n",
       "      <td>...</td>\n",
       "      <td>...</td>\n",
       "      <td>...</td>\n",
       "      <td>...</td>\n",
       "      <td>...</td>\n",
       "      <td>...</td>\n",
       "      <td>...</td>\n",
       "    </tr>\n",
       "    <tr>\n",
       "      <th>4265</th>\n",
       "      <td>5</td>\n",
       "      <td>Graduate</td>\n",
       "      <td>Yes</td>\n",
       "      <td>1000000</td>\n",
       "      <td>2300000</td>\n",
       "      <td>12</td>\n",
       "      <td>317</td>\n",
       "      <td>2800000</td>\n",
       "      <td>500000</td>\n",
       "      <td>3300000</td>\n",
       "      <td>800000</td>\n",
       "      <td>Rejected</td>\n",
       "    </tr>\n",
       "    <tr>\n",
       "      <th>4266</th>\n",
       "      <td>0</td>\n",
       "      <td>Not Graduate</td>\n",
       "      <td>Yes</td>\n",
       "      <td>3300000</td>\n",
       "      <td>11300000</td>\n",
       "      <td>20</td>\n",
       "      <td>559</td>\n",
       "      <td>4200000</td>\n",
       "      <td>2900000</td>\n",
       "      <td>11000000</td>\n",
       "      <td>1900000</td>\n",
       "      <td>Approved</td>\n",
       "    </tr>\n",
       "    <tr>\n",
       "      <th>4267</th>\n",
       "      <td>2</td>\n",
       "      <td>Not Graduate</td>\n",
       "      <td>No</td>\n",
       "      <td>6500000</td>\n",
       "      <td>23900000</td>\n",
       "      <td>18</td>\n",
       "      <td>457</td>\n",
       "      <td>1200000</td>\n",
       "      <td>12400000</td>\n",
       "      <td>18100000</td>\n",
       "      <td>7300000</td>\n",
       "      <td>Rejected</td>\n",
       "    </tr>\n",
       "    <tr>\n",
       "      <th>4268</th>\n",
       "      <td>1</td>\n",
       "      <td>Not Graduate</td>\n",
       "      <td>No</td>\n",
       "      <td>4100000</td>\n",
       "      <td>12800000</td>\n",
       "      <td>8</td>\n",
       "      <td>780</td>\n",
       "      <td>8200000</td>\n",
       "      <td>700000</td>\n",
       "      <td>14100000</td>\n",
       "      <td>5800000</td>\n",
       "      <td>Approved</td>\n",
       "    </tr>\n",
       "    <tr>\n",
       "      <th>4269</th>\n",
       "      <td>1</td>\n",
       "      <td>Graduate</td>\n",
       "      <td>No</td>\n",
       "      <td>9200000</td>\n",
       "      <td>29700000</td>\n",
       "      <td>10</td>\n",
       "      <td>607</td>\n",
       "      <td>17800000</td>\n",
       "      <td>11800000</td>\n",
       "      <td>35700000</td>\n",
       "      <td>12000000</td>\n",
       "      <td>Approved</td>\n",
       "    </tr>\n",
       "  </tbody>\n",
       "</table>\n",
       "<p>4269 rows × 12 columns</p>\n",
       "</div>"
      ],
      "text/plain": [
       "          no_of_dependents      education  self_employed   income_annum  \\\n",
       "loan_id                                                                   \n",
       "1                        2       Graduate             No        9600000   \n",
       "2                        0   Not Graduate            Yes        4100000   \n",
       "3                        3       Graduate             No        9100000   \n",
       "4                        3       Graduate             No        8200000   \n",
       "5                        5   Not Graduate            Yes        9800000   \n",
       "...                    ...            ...            ...            ...   \n",
       "4265                     5       Graduate            Yes        1000000   \n",
       "4266                     0   Not Graduate            Yes        3300000   \n",
       "4267                     2   Not Graduate             No        6500000   \n",
       "4268                     1   Not Graduate             No        4100000   \n",
       "4269                     1       Graduate             No        9200000   \n",
       "\n",
       "          loan_amount   loan_term   cibil_score   residential_assets_value  \\\n",
       "loan_id                                                                      \n",
       "1            29900000          12           778                    2400000   \n",
       "2            12200000           8           417                    2700000   \n",
       "3            29700000          20           506                    7100000   \n",
       "4            30700000           8           467                   18200000   \n",
       "5            24200000          20           382                   12400000   \n",
       "...               ...         ...           ...                        ...   \n",
       "4265          2300000          12           317                    2800000   \n",
       "4266         11300000          20           559                    4200000   \n",
       "4267         23900000          18           457                    1200000   \n",
       "4268         12800000           8           780                    8200000   \n",
       "4269         29700000          10           607                   17800000   \n",
       "\n",
       "          commercial_assets_value   luxury_assets_value   bank_asset_value  \\\n",
       "loan_id                                                                      \n",
       "1                        17600000              22700000            8000000   \n",
       "2                         2200000               8800000            3300000   \n",
       "3                         4500000              33300000           12800000   \n",
       "4                         3300000              23300000            7900000   \n",
       "5                         8200000              29400000            5000000   \n",
       "...                           ...                   ...                ...   \n",
       "4265                       500000               3300000             800000   \n",
       "4266                      2900000              11000000            1900000   \n",
       "4267                     12400000              18100000            7300000   \n",
       "4268                       700000              14100000            5800000   \n",
       "4269                     11800000              35700000           12000000   \n",
       "\n",
       "         loan_status  \n",
       "loan_id               \n",
       "1           Approved  \n",
       "2           Rejected  \n",
       "3           Rejected  \n",
       "4           Rejected  \n",
       "5           Rejected  \n",
       "...              ...  \n",
       "4265        Rejected  \n",
       "4266        Approved  \n",
       "4267        Rejected  \n",
       "4268        Approved  \n",
       "4269        Approved  \n",
       "\n",
       "[4269 rows x 12 columns]"
      ]
     },
     "execution_count": 3,
     "metadata": {},
     "output_type": "execute_result"
    }
   ],
   "source": [
    "df = pd.read_csv('/kaggle/input/loan-approval-prediction-dataset/loan_approval_dataset.csv',index_col = 'loan_id')\n",
    "df"
   ]
  },
  {
   "cell_type": "code",
   "execution_count": 4,
   "id": "c4ee404d",
   "metadata": {
    "execution": {
     "iopub.execute_input": "2023-07-31T11:44:26.879499Z",
     "iopub.status.busy": "2023-07-31T11:44:26.878612Z",
     "iopub.status.idle": "2023-07-31T11:44:26.905101Z",
     "shell.execute_reply": "2023-07-31T11:44:26.903921Z"
    },
    "papermill": {
     "duration": 0.039434,
     "end_time": "2023-07-31T11:44:26.907963",
     "exception": false,
     "start_time": "2023-07-31T11:44:26.868529",
     "status": "completed"
    },
    "tags": []
   },
   "outputs": [
    {
     "data": {
      "text/plain": [
       " no_of_dependents            0\n",
       " education                   0\n",
       " self_employed               0\n",
       " income_annum                0\n",
       " loan_amount                 0\n",
       " loan_term                   0\n",
       " cibil_score                 0\n",
       " residential_assets_value    0\n",
       " commercial_assets_value     0\n",
       " luxury_assets_value         0\n",
       " bank_asset_value            0\n",
       " loan_status                 0\n",
       "dtype: int64"
      ]
     },
     "execution_count": 4,
     "metadata": {},
     "output_type": "execute_result"
    }
   ],
   "source": [
    "df[df.isna() == True].count()"
   ]
  },
  {
   "cell_type": "markdown",
   "id": "f5d56725",
   "metadata": {
    "papermill": {
     "duration": 0.008282,
     "end_time": "2023-07-31T11:44:26.924862",
     "exception": false,
     "start_time": "2023-07-31T11:44:26.916580",
     "status": "completed"
    },
    "tags": []
   },
   "source": [
    "# Note here there is a problem in dataset column as there is space in names which cause problem so let us rename the columns."
   ]
  },
  {
   "cell_type": "code",
   "execution_count": 5,
   "id": "d04f41f2",
   "metadata": {
    "execution": {
     "iopub.execute_input": "2023-07-31T11:44:26.945609Z",
     "iopub.status.busy": "2023-07-31T11:44:26.944395Z",
     "iopub.status.idle": "2023-07-31T11:44:26.953377Z",
     "shell.execute_reply": "2023-07-31T11:44:26.952291Z"
    },
    "papermill": {
     "duration": 0.022521,
     "end_time": "2023-07-31T11:44:26.955826",
     "exception": false,
     "start_time": "2023-07-31T11:44:26.933305",
     "status": "completed"
    },
    "tags": []
   },
   "outputs": [],
   "source": [
    "df.rename(columns = {' no_of_dependents': 'no_of_dependents',\n",
    "                     ' education' : 'education', \n",
    "                     ' self_employed' : 'self_employed',\n",
    "                     ' income_annum' : 'income_annum',\n",
    "                     ' loan_amount' : 'loan_amount',\n",
    "                     ' loan_term' :'loan_term',\n",
    "                     ' cibil_score' : 'cibil_score',\n",
    "                     ' residential_assets_value' : 'residential_assets_value', \n",
    "                     ' commercial_assets_value' : 'commercial_assets_value',\n",
    "                     ' luxury_assets_value' : 'luxury_assets_value',\n",
    "                     ' bank_asset_value' : 'bank_asset_value',\n",
    "                     ' loan_status' : 'loan_status'}, \n",
    "                      inplace = True)\n",
    "df.columns\n",
    "col = ['no_of_dependents', 'income_annum', 'loan_amount', 'loan_term',\n",
    "       'cibil_score', 'residential_assets_value', 'commercial_assets_value',\n",
    "       'luxury_assets_value', 'bank_asset_value', 'education_ Graduate',\n",
    "       'education_ Not Graduate', 'self_employed_ No', 'self_employed_ Yes',\n",
    "       'Total_assets_value']\n",
    "Scaling = ['residential_assets_value','commercial_assets_value',\t'luxury_assets_value'\t,'bank_asset_value']"
   ]
  },
  {
   "cell_type": "code",
   "execution_count": 6,
   "id": "f718cab5",
   "metadata": {
    "execution": {
     "iopub.execute_input": "2023-07-31T11:44:26.974634Z",
     "iopub.status.busy": "2023-07-31T11:44:26.974251Z",
     "iopub.status.idle": "2023-07-31T11:44:26.999778Z",
     "shell.execute_reply": "2023-07-31T11:44:26.998432Z"
    },
    "papermill": {
     "duration": 0.03812,
     "end_time": "2023-07-31T11:44:27.002530",
     "exception": false,
     "start_time": "2023-07-31T11:44:26.964410",
     "status": "completed"
    },
    "tags": []
   },
   "outputs": [],
   "source": [
    "label_encoder  =LabelEncoder()\n",
    "mx = MinMaxScaler()\n",
    "def preprocess(df):\n",
    "    y = df.pop('loan_status')\n",
    "    y = label_encoder.fit_transform(y)\n",
    "    \n",
    "    df = pd.get_dummies(df)\n",
    "    \n",
    "    df['Total_assets_value'] = 0\n",
    "    for i in Scaling:\n",
    "        df['Total_assets_value'] += df[i] \n",
    "    \n",
    "    df[col]=mx.fit_transform(df[col])\n",
    "    df = df.drop(columns = Scaling)\n",
    "    \n",
    "    \n",
    "    \n",
    "    return df,y\n",
    "\n",
    "df,y = preprocess(df)"
   ]
  },
  {
   "cell_type": "markdown",
   "id": "37794b12",
   "metadata": {
    "papermill": {
     "duration": 0.00828,
     "end_time": "2023-07-31T11:44:27.019534",
     "exception": false,
     "start_time": "2023-07-31T11:44:27.011254",
     "status": "completed"
    },
    "tags": []
   },
   "source": [
    "## Graphing"
   ]
  },
  {
   "cell_type": "code",
   "execution_count": 7,
   "id": "3d2c4407",
   "metadata": {
    "execution": {
     "iopub.execute_input": "2023-07-31T11:44:27.038369Z",
     "iopub.status.busy": "2023-07-31T11:44:27.037940Z",
     "iopub.status.idle": "2023-07-31T11:44:27.492013Z",
     "shell.execute_reply": "2023-07-31T11:44:27.490947Z"
    },
    "papermill": {
     "duration": 0.466841,
     "end_time": "2023-07-31T11:44:27.494929",
     "exception": false,
     "start_time": "2023-07-31T11:44:27.028088",
     "status": "completed"
    },
    "tags": []
   },
   "outputs": [],
   "source": [
    "import seaborn as sns\n",
    "import matplotlib.pyplot as plt"
   ]
  },
  {
   "cell_type": "code",
   "execution_count": 8,
   "id": "9f1d853f",
   "metadata": {
    "execution": {
     "iopub.execute_input": "2023-07-31T11:44:27.514442Z",
     "iopub.status.busy": "2023-07-31T11:44:27.514053Z",
     "iopub.status.idle": "2023-07-31T11:44:29.228834Z",
     "shell.execute_reply": "2023-07-31T11:44:29.227697Z"
    },
    "papermill": {
     "duration": 1.727954,
     "end_time": "2023-07-31T11:44:29.231876",
     "exception": false,
     "start_time": "2023-07-31T11:44:27.503922",
     "status": "completed"
    },
    "tags": []
   },
   "outputs": [
    {
     "data": {
      "text/plain": [
       "<Axes: ylabel='no_of_dependents'>"
      ]
     },
     "execution_count": 8,
     "metadata": {},
     "output_type": "execute_result"
    },
    {
     "data": {
      "image/png": "[encoded data removed]",
      "text/plain": [
       "<Figure size 1800x1000 with 6 Axes>"
      ]
     },
     "metadata": {},
     "output_type": "display_data"
    }
   ],
   "source": [
    "\n",
    "fig, axes = plt.subplots(2, 3, figsize=(18, 10))\n",
    "fig.suptitle('Comparision')\n",
    "sns.barplot( ax=axes[0, 0] ,x=y, y=df['Total_assets_value'])\n",
    "sns.barplot( ax=axes[0, 1] ,x=y, y=df['income_annum'])\n",
    "sns.barplot( ax=axes[0, 2] ,x=y, y=df['loan_amount'])\n",
    "sns.barplot( ax=axes[1, 0] ,x=y, y=df['loan_term'])\n",
    "sns.barplot( ax=axes[1, 1] ,x=y, y=df['cibil_score'])\n",
    "sns.barplot( ax=axes[1, 2] ,x=y, y=df['no_of_dependents'])"
   ]
  },
  {
   "cell_type": "markdown",
   "id": "2b5d3d39",
   "metadata": {
    "papermill": {
     "duration": 0.00915,
     "end_time": "2023-07-31T11:44:29.250538",
     "exception": false,
     "start_time": "2023-07-31T11:44:29.241388",
     "status": "completed"
    },
    "tags": []
   },
   "source": [
    "# Modeling"
   ]
  },
  {
   "cell_type": "code",
   "execution_count": 9,
   "id": "1dfffe60",
   "metadata": {
    "execution": {
     "iopub.execute_input": "2023-07-31T11:44:29.270598Z",
     "iopub.status.busy": "2023-07-31T11:44:29.270200Z",
     "iopub.status.idle": "2023-07-31T11:44:29.367686Z",
     "shell.execute_reply": "2023-07-31T11:44:29.366681Z"
    },
    "papermill": {
     "duration": 0.110437,
     "end_time": "2023-07-31T11:44:29.370236",
     "exception": false,
     "start_time": "2023-07-31T11:44:29.259799",
     "status": "completed"
    },
    "tags": []
   },
   "outputs": [],
   "source": [
    "import torch\n",
    "torch.__version__\n",
    "from sklearn.model_selection import train_test_split"
   ]
  },
  {
   "cell_type": "code",
   "execution_count": 10,
   "id": "421e1c0a",
   "metadata": {
    "execution": {
     "iopub.execute_input": "2023-07-31T11:44:29.391131Z",
     "iopub.status.busy": "2023-07-31T11:44:29.390413Z",
     "iopub.status.idle": "2023-07-31T11:44:29.397894Z",
     "shell.execute_reply": "2023-07-31T11:44:29.396757Z"
    },
    "papermill": {
     "duration": 0.020049,
     "end_time": "2023-07-31T11:44:29.399922",
     "exception": false,
     "start_time": "2023-07-31T11:44:29.379873",
     "status": "completed"
    },
    "tags": []
   },
   "outputs": [
    {
     "data": {
      "text/plain": [
       "10"
      ]
     },
     "execution_count": 10,
     "metadata": {},
     "output_type": "execute_result"
    }
   ],
   "source": [
    "len(df.columns)"
   ]
  },
  {
   "cell_type": "code",
   "execution_count": 11,
   "id": "a62f6bac",
   "metadata": {
    "execution": {
     "iopub.execute_input": "2023-07-31T11:44:29.420988Z",
     "iopub.status.busy": "2023-07-31T11:44:29.420252Z",
     "iopub.status.idle": "2023-07-31T11:44:29.426946Z",
     "shell.execute_reply": "2023-07-31T11:44:29.426224Z"
    },
    "papermill": {
     "duration": 0.019361,
     "end_time": "2023-07-31T11:44:29.428846",
     "exception": false,
     "start_time": "2023-07-31T11:44:29.409485",
     "status": "completed"
    },
    "tags": []
   },
   "outputs": [],
   "source": [
    "X_train, X_test,y_train, y_test = train_test_split(df,y ,\n",
    "                                   random_state=104, \n",
    "                                   test_size=0.25, \n",
    "                                   shuffle=True)"
   ]
  },
  {
   "cell_type": "code",
   "execution_count": 12,
   "id": "a8710c36",
   "metadata": {
    "execution": {
     "iopub.execute_input": "2023-07-31T11:44:29.450464Z",
     "iopub.status.busy": "2023-07-31T11:44:29.449740Z",
     "iopub.status.idle": "2023-07-31T11:44:29.457079Z",
     "shell.execute_reply": "2023-07-31T11:44:29.456058Z"
    },
    "papermill": {
     "duration": 0.020674,
     "end_time": "2023-07-31T11:44:29.459074",
     "exception": false,
     "start_time": "2023-07-31T11:44:29.438400",
     "status": "completed"
    },
    "tags": []
   },
   "outputs": [
    {
     "data": {
      "text/plain": [
       "array([[0.4       , 0.96907216, 0.75510204, ..., 1.        , 0.        ,\n",
       "        0.55703212],\n",
       "       [0.        , 0.40206186, 0.30357143, ..., 0.        , 1.        ,\n",
       "        0.18383167],\n",
       "       [0.6       , 0.91752577, 0.75      , ..., 1.        , 0.        ,\n",
       "        0.6345515 ],\n",
       "       ...,\n",
       "       [0.4       , 0.64948454, 0.60204082, ..., 1.        , 0.        ,\n",
       "        0.42746401],\n",
       "       [0.2       , 0.40206186, 0.31887755, ..., 1.        , 0.        ,\n",
       "        0.3145072 ],\n",
       "       [0.2       , 0.92783505, 0.75      , ..., 1.        , 0.        ,\n",
       "        0.85160576]])"
      ]
     },
     "execution_count": 12,
     "metadata": {},
     "output_type": "execute_result"
    }
   ],
   "source": [
    " df.values"
   ]
  },
  {
   "cell_type": "code",
   "execution_count": 13,
   "id": "eebd781b",
   "metadata": {
    "execution": {
     "iopub.execute_input": "2023-07-31T11:44:29.481210Z",
     "iopub.status.busy": "2023-07-31T11:44:29.479924Z",
     "iopub.status.idle": "2023-07-31T11:44:29.519073Z",
     "shell.execute_reply": "2023-07-31T11:44:29.518125Z"
    },
    "papermill": {
     "duration": 0.052891,
     "end_time": "2023-07-31T11:44:29.521704",
     "exception": false,
     "start_time": "2023-07-31T11:44:29.468813",
     "status": "completed"
    },
    "tags": []
   },
   "outputs": [],
   "source": [
    "\n",
    "X_train = torch.tensor(X_train.values, dtype=torch.float32)\n",
    "X_test = torch.tensor(X_test.values, dtype=torch.float32)\n",
    "y_train = torch.tensor(y_train, dtype=torch.float32)\n",
    "y_test = torch.tensor(y_test, dtype=torch.float32)"
   ]
  },
  {
   "cell_type": "code",
   "execution_count": 14,
   "id": "eb46d9fc",
   "metadata": {
    "execution": {
     "iopub.execute_input": "2023-07-31T11:44:29.543610Z",
     "iopub.status.busy": "2023-07-31T11:44:29.542934Z",
     "iopub.status.idle": "2023-07-31T11:44:29.550259Z",
     "shell.execute_reply": "2023-07-31T11:44:29.549271Z"
    },
    "papermill": {
     "duration": 0.020908,
     "end_time": "2023-07-31T11:44:29.552422",
     "exception": false,
     "start_time": "2023-07-31T11:44:29.531514",
     "status": "completed"
    },
    "tags": []
   },
   "outputs": [
    {
     "data": {
      "text/plain": [
       "'cpu'"
      ]
     },
     "execution_count": 14,
     "metadata": {},
     "output_type": "execute_result"
    }
   ],
   "source": [
    "import torch\n",
    "from torch import nn\n",
    "\n",
    "device = 'cuda' if torch.cuda.is_available() else 'cpu'\n",
    "device"
   ]
  },
  {
   "cell_type": "code",
   "execution_count": 15,
   "id": "62f89e78",
   "metadata": {
    "execution": {
     "iopub.execute_input": "2023-07-31T11:44:29.574655Z",
     "iopub.status.busy": "2023-07-31T11:44:29.573974Z",
     "iopub.status.idle": "2023-07-31T11:44:29.581296Z",
     "shell.execute_reply": "2023-07-31T11:44:29.580327Z"
    },
    "papermill": {
     "duration": 0.021196,
     "end_time": "2023-07-31T11:44:29.583455",
     "exception": false,
     "start_time": "2023-07-31T11:44:29.562259",
     "status": "completed"
    },
    "tags": []
   },
   "outputs": [
    {
     "data": {
      "text/plain": [
       "'class loaner(nn.Module):\\n    def __init__(self):\\n        super().__init__()\\n        \\n        self.layer1 = nn.Linear(in_features = 10 , out_features= 5 )\\n        self.layer2 = nn.Linear(in_features =  5 , out_features= 1 )\\n        \\n    def forward(self,x):\\n         return  self.layer2(self.layer1(x))\\n\\nmodel = loaner().to(device)\\nmodel'"
      ]
     },
     "execution_count": 15,
     "metadata": {},
     "output_type": "execute_result"
    }
   ],
   "source": [
    "# One way to create\n",
    "'''class loaner(nn.Module):\n",
    "    def __init__(self):\n",
    "        super().__init__()\n",
    "        \n",
    "        self.layer1 = nn.Linear(in_features = 10 , out_features= 5 )\n",
    "        self.layer2 = nn.Linear(in_features =  5 , out_features= 1 )\n",
    "        \n",
    "    def forward(self,x):\n",
    "         return  self.layer2(self.layer1(x))\n",
    "\n",
    "model = loaner().to(device)\n",
    "model'''"
   ]
  },
  {
   "cell_type": "code",
   "execution_count": 16,
   "id": "a41f9ca2",
   "metadata": {
    "execution": {
     "iopub.execute_input": "2023-07-31T11:44:29.605803Z",
     "iopub.status.busy": "2023-07-31T11:44:29.605370Z",
     "iopub.status.idle": "2023-07-31T11:44:29.629923Z",
     "shell.execute_reply": "2023-07-31T11:44:29.628791Z"
    },
    "papermill": {
     "duration": 0.038752,
     "end_time": "2023-07-31T11:44:29.632306",
     "exception": false,
     "start_time": "2023-07-31T11:44:29.593554",
     "status": "completed"
    },
    "tags": []
   },
   "outputs": [
    {
     "data": {
      "text/plain": [
       "Sequential(\n",
       "  (0): Linear(in_features=2, out_features=5, bias=True)\n",
       "  (1): Linear(in_features=5, out_features=1, bias=True)\n",
       ")"
      ]
     },
     "execution_count": 16,
     "metadata": {},
     "output_type": "execute_result"
    }
   ],
   "source": [
    "model = nn.Sequential(\n",
    "    nn.Linear(in_features = 2, out_features =5),\n",
    "    nn.Linear(in_features = 5, out_features =1)).to(device)\n",
    "loss_fn = nn.BCEWithLogitsLoss()\n",
    "optimizer = torch.optim.SGD(params = model.parameters(),\n",
    "                           lr = 0.1)\n",
    "model"
   ]
  },
  {
   "cell_type": "code",
   "execution_count": 17,
   "id": "2f2c79c7",
   "metadata": {
    "execution": {
     "iopub.execute_input": "2023-07-31T11:44:29.655210Z",
     "iopub.status.busy": "2023-07-31T11:44:29.654281Z",
     "iopub.status.idle": "2023-07-31T11:44:29.660203Z",
     "shell.execute_reply": "2023-07-31T11:44:29.659071Z"
    },
    "papermill": {
     "duration": 0.01999,
     "end_time": "2023-07-31T11:44:29.662604",
     "exception": false,
     "start_time": "2023-07-31T11:44:29.642614",
     "status": "completed"
    },
    "tags": []
   },
   "outputs": [],
   "source": [
    "def accuracy_fn(y_true,y_preds):\n",
    "    correct = torch.eq(y_true,y_preds).sum().item()\n",
    "    acc = (correct/len(y_preds) * 100)\n",
    "    return acc"
   ]
  },
  {
   "cell_type": "markdown",
   "id": "ebf225a5",
   "metadata": {
    "papermill": {
     "duration": 0.010127,
     "end_time": "2023-07-31T11:44:29.683170",
     "exception": false,
     "start_time": "2023-07-31T11:44:29.673043",
     "status": "completed"
    },
    "tags": []
   },
   "source": [
    "## preparing training and testing loop"
   ]
  },
  {
   "cell_type": "code",
   "execution_count": 18,
   "id": "d4bc81b1",
   "metadata": {
    "execution": {
     "iopub.execute_input": "2023-07-31T11:44:29.705897Z",
     "iopub.status.busy": "2023-07-31T11:44:29.705271Z",
     "iopub.status.idle": "2023-07-31T11:44:29.709451Z",
     "shell.execute_reply": "2023-07-31T11:44:29.708421Z"
    },
    "papermill": {
     "duration": 0.018453,
     "end_time": "2023-07-31T11:44:29.711789",
     "exception": false,
     "start_time": "2023-07-31T11:44:29.693336",
     "status": "completed"
    },
    "tags": []
   },
   "outputs": [],
   "source": [
    "#10:28"
   ]
  }
 ],
 "metadata": {
  "kernelspec": {
   "display_name": "Python 3",
   "language": "python",
   "name": "python3"
  },
  "language_info": {
   "codemirror_mode": {
    "name": "ipython",
    "version": 3
   },
   "file_extension": ".py",
   "mimetype": "text/x-python",
   "name": "python",
   "nbconvert_exporter": "python",
   "pygments_lexer": "ipython3",
   "version": "3.10.12"
  },
  "papermill": {
   "default_parameters": {},
   "duration": 20.747035,
   "end_time": "2023-07-31T11:44:31.989136",
   "environment_variables": {},
   "exception": null,
   "input_path": "__notebook__.ipynb",
   "output_path": "__notebook__.ipynb",
   "parameters": {},
   "start_time": "2023-07-31T11:44:11.242101",
   "version": "2.4.0"
  }
 },
 "nbformat": 4,
 "nbformat_minor": 5
}
