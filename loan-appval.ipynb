{
 "cells": [
  {
   "cell_type": "code",
   "execution_count": null,
   "id": "24ab5c33",
   "metadata": {
    "papermill": {
     "duration": 0.0109,
     "end_time": "2023-07-31T16:21:25.174101",
     "exception": false,
     "start_time": "2023-07-31T16:21:25.163201",
     "status": "completed"
    },
    "tags": []
   },
   "outputs": [],
   "source": []
  },
  {
   "cell_type": "code",
   "execution_count": 1,
   "id": "da4f75da",
   "metadata": {
    "_cell_guid": "b1076dfc-b9ad-4769-8c92-a6c4dae69d19",
    "_uuid": "8f2839f25d086af736a60e9eeb907d3b93b6e0e5",
    "execution": {
     "iopub.execute_input": "2023-07-31T16:21:25.198575Z",
     "iopub.status.busy": "2023-07-31T16:21:25.197592Z",
     "iopub.status.idle": "2023-07-31T16:21:25.226045Z",
     "shell.execute_reply": "2023-07-31T16:21:25.224416Z"
    },
    "papermill": {
     "duration": 0.043537,
     "end_time": "2023-07-31T16:21:25.228888",
     "exception": false,
     "start_time": "2023-07-31T16:21:25.185351",
     "status": "completed"
    },
    "tags": []
   },
   "outputs": [
    {
     "name": "stdout",
     "output_type": "stream",
     "text": [
      "/kaggle/input/loan-approval-prediction-dataset/loan_approval_dataset.csv\n"
     ]
    }
   ],
   "source": [
    "# This Python 3 environment comes with many helpful analytics libraries installed\n",
    "# It is defined by the kaggle/python Docker image: https://github.com/kaggle/docker-python\n",
    "# For example, here's several helpful packages to load\n",
    "\n",
    "import numpy as np # linear algebra\n",
    "import pandas as pd # data processing, CSV file I/O (e.g. pd.read_csv)\n",
    "\n",
    "# Input data files are available in the read-only \"../input/\" directory\n",
    "# For example, running this (by clicking run or pressing Shift+Enter) will list all files under the input directory\n",
    "\n",
    "import os\n",
    "for dirname, _, filenames in os.walk('/kaggle/input'):\n",
    "    for filename in filenames:\n",
    "        print(os.path.join(dirname, filename))\n",
    "\n",
    "# You can write up to 20GB to the current directory (/kaggle/working/) that gets preserved as output when you create a version using \"Save & Run All\" \n",
    "# You can also write temporary files to /kaggle/temp/, but they won't be saved outside of the current session"
   ]
  },
  {
   "cell_type": "code",
   "execution_count": 2,
   "id": "5ca5ea49",
   "metadata": {
    "execution": {
     "iopub.execute_input": "2023-07-31T16:21:25.251709Z",
     "iopub.status.busy": "2023-07-31T16:21:25.251251Z",
     "iopub.status.idle": "2023-07-31T16:21:30.861358Z",
     "shell.execute_reply": "2023-07-31T16:21:30.860348Z"
    },
    "papermill": {
     "duration": 5.624471,
     "end_time": "2023-07-31T16:21:30.864435",
     "exception": false,
     "start_time": "2023-07-31T16:21:25.239964",
     "status": "completed"
    },
    "tags": []
   },
   "outputs": [
    {
     "name": "stderr",
     "output_type": "stream",
     "text": [
      "/opt/conda/lib/python3.10/site-packages/scipy/__init__.py:146: UserWarning: A NumPy version >=1.16.5 and <1.23.0 is required for this version of SciPy (detected version 1.23.5\n",
      "  warnings.warn(f\"A NumPy version >={np_minversion} and <{np_maxversion}\"\n"
     ]
    }
   ],
   "source": [
    "import torch\n",
    "from sklearn.preprocessing import MinMaxScaler ,LabelEncoder"
   ]
  },
  {
   "cell_type": "markdown",
   "id": "9f03b5ff",
   "metadata": {
    "papermill": {
     "duration": 0.009606,
     "end_time": "2023-07-31T16:21:30.887424",
     "exception": false,
     "start_time": "2023-07-31T16:21:30.877818",
     "status": "completed"
    },
    "tags": []
   },
   "source": [
    "# Preprocessed data"
   ]
  },
  {
   "cell_type": "code",
   "execution_count": 3,
   "id": "922be412",
   "metadata": {
    "execution": {
     "iopub.execute_input": "2023-07-31T16:21:30.908702Z",
     "iopub.status.busy": "2023-07-31T16:21:30.908014Z",
     "iopub.status.idle": "2023-07-31T16:21:30.997570Z",
     "shell.execute_reply": "2023-07-31T16:21:30.996097Z"
    },
    "papermill": {
     "duration": 0.103544,
     "end_time": "2023-07-31T16:21:31.000563",
     "exception": false,
     "start_time": "2023-07-31T16:21:30.897019",
     "status": "completed"
    },
    "tags": []
   },
   "outputs": [
    {
     "data": {
      "text/html": [
       "<div>\n",
       "<style scoped>\n",
       "    .dataframe tbody tr th:only-of-type {\n",
       "        vertical-align: middle;\n",
       "    }\n",
       "\n",
       "    .dataframe tbody tr th {\n",
       "        vertical-align: top;\n",
       "    }\n",
       "\n",
       "    .dataframe thead th {\n",
       "        text-align: right;\n",
       "    }\n",
       "</style>\n",
       "<table border=\"1\" class=\"dataframe\">\n",
       "  <thead>\n",
       "    <tr style=\"text-align: right;\">\n",
       "      <th></th>\n",
       "      <th>no_of_dependents</th>\n",
       "      <th>education</th>\n",
       "      <th>self_employed</th>\n",
       "      <th>income_annum</th>\n",
       "      <th>loan_amount</th>\n",
       "      <th>loan_term</th>\n",
       "      <th>cibil_score</th>\n",
       "      <th>residential_assets_value</th>\n",
       "      <th>commercial_assets_value</th>\n",
       "      <th>luxury_assets_value</th>\n",
       "      <th>bank_asset_value</th>\n",
       "      <th>loan_status</th>\n",
       "    </tr>\n",
       "    <tr>\n",
       "      <th>loan_id</th>\n",
       "      <th></th>\n",
       "      <th></th>\n",
       "      <th></th>\n",
       "      <th></th>\n",
       "      <th></th>\n",
       "      <th></th>\n",
       "      <th></th>\n",
       "      <th></th>\n",
       "      <th></th>\n",
       "      <th></th>\n",
       "      <th></th>\n",
       "      <th></th>\n",
       "    </tr>\n",
       "  </thead>\n",
       "  <tbody>\n",
       "    <tr>\n",
       "      <th>1</th>\n",
       "      <td>2</td>\n",
       "      <td>Graduate</td>\n",
       "      <td>No</td>\n",
       "      <td>9600000</td>\n",
       "      <td>29900000</td>\n",
       "      <td>12</td>\n",
       "      <td>778</td>\n",
       "      <td>2400000</td>\n",
       "      <td>17600000</td>\n",
       "      <td>22700000</td>\n",
       "      <td>8000000</td>\n",
       "      <td>Approved</td>\n",
       "    </tr>\n",
       "    <tr>\n",
       "      <th>2</th>\n",
       "      <td>0</td>\n",
       "      <td>Not Graduate</td>\n",
       "      <td>Yes</td>\n",
       "      <td>4100000</td>\n",
       "      <td>12200000</td>\n",
       "      <td>8</td>\n",
       "      <td>417</td>\n",
       "      <td>2700000</td>\n",
       "      <td>2200000</td>\n",
       "      <td>8800000</td>\n",
       "      <td>3300000</td>\n",
       "      <td>Rejected</td>\n",
       "    </tr>\n",
       "    <tr>\n",
       "      <th>3</th>\n",
       "      <td>3</td>\n",
       "      <td>Graduate</td>\n",
       "      <td>No</td>\n",
       "      <td>9100000</td>\n",
       "      <td>29700000</td>\n",
       "      <td>20</td>\n",
       "      <td>506</td>\n",
       "      <td>7100000</td>\n",
       "      <td>4500000</td>\n",
       "      <td>33300000</td>\n",
       "      <td>12800000</td>\n",
       "      <td>Rejected</td>\n",
       "    </tr>\n",
       "    <tr>\n",
       "      <th>4</th>\n",
       "      <td>3</td>\n",
       "      <td>Graduate</td>\n",
       "      <td>No</td>\n",
       "      <td>8200000</td>\n",
       "      <td>30700000</td>\n",
       "      <td>8</td>\n",
       "      <td>467</td>\n",
       "      <td>18200000</td>\n",
       "      <td>3300000</td>\n",
       "      <td>23300000</td>\n",
       "      <td>7900000</td>\n",
       "      <td>Rejected</td>\n",
       "    </tr>\n",
       "    <tr>\n",
       "      <th>5</th>\n",
       "      <td>5</td>\n",
       "      <td>Not Graduate</td>\n",
       "      <td>Yes</td>\n",
       "      <td>9800000</td>\n",
       "      <td>24200000</td>\n",
       "      <td>20</td>\n",
       "      <td>382</td>\n",
       "      <td>12400000</td>\n",
       "      <td>8200000</td>\n",
       "      <td>29400000</td>\n",
       "      <td>5000000</td>\n",
       "      <td>Rejected</td>\n",
       "    </tr>\n",
       "    <tr>\n",
       "      <th>...</th>\n",
       "      <td>...</td>\n",
       "      <td>...</td>\n",
       "      <td>...</td>\n",
       "      <td>...</td>\n",
       "      <td>...</td>\n",
       "      <td>...</td>\n",
       "      <td>...</td>\n",
       "      <td>...</td>\n",
       "      <td>...</td>\n",
       "      <td>...</td>\n",
       "      <td>...</td>\n",
       "      <td>...</td>\n",
       "    </tr>\n",
       "    <tr>\n",
       "      <th>4265</th>\n",
       "      <td>5</td>\n",
       "      <td>Graduate</td>\n",
       "      <td>Yes</td>\n",
       "      <td>1000000</td>\n",
       "      <td>2300000</td>\n",
       "      <td>12</td>\n",
       "      <td>317</td>\n",
       "      <td>2800000</td>\n",
       "      <td>500000</td>\n",
       "      <td>3300000</td>\n",
       "      <td>800000</td>\n",
       "      <td>Rejected</td>\n",
       "    </tr>\n",
       "    <tr>\n",
       "      <th>4266</th>\n",
       "      <td>0</td>\n",
       "      <td>Not Graduate</td>\n",
       "      <td>Yes</td>\n",
       "      <td>3300000</td>\n",
       "      <td>11300000</td>\n",
       "      <td>20</td>\n",
       "      <td>559</td>\n",
       "      <td>4200000</td>\n",
       "      <td>2900000</td>\n",
       "      <td>11000000</td>\n",
       "      <td>1900000</td>\n",
       "      <td>Approved</td>\n",
       "    </tr>\n",
       "    <tr>\n",
       "      <th>4267</th>\n",
       "      <td>2</td>\n",
       "      <td>Not Graduate</td>\n",
       "      <td>No</td>\n",
       "      <td>6500000</td>\n",
       "      <td>23900000</td>\n",
       "      <td>18</td>\n",
       "      <td>457</td>\n",
       "      <td>1200000</td>\n",
       "      <td>12400000</td>\n",
       "      <td>18100000</td>\n",
       "      <td>7300000</td>\n",
       "      <td>Rejected</td>\n",
       "    </tr>\n",
       "    <tr>\n",
       "      <th>4268</th>\n",
       "      <td>1</td>\n",
       "      <td>Not Graduate</td>\n",
       "      <td>No</td>\n",
       "      <td>4100000</td>\n",
       "      <td>12800000</td>\n",
       "      <td>8</td>\n",
       "      <td>780</td>\n",
       "      <td>8200000</td>\n",
       "      <td>700000</td>\n",
       "      <td>14100000</td>\n",
       "      <td>5800000</td>\n",
       "      <td>Approved</td>\n",
       "    </tr>\n",
       "    <tr>\n",
       "      <th>4269</th>\n",
       "      <td>1</td>\n",
       "      <td>Graduate</td>\n",
       "      <td>No</td>\n",
       "      <td>9200000</td>\n",
       "      <td>29700000</td>\n",
       "      <td>10</td>\n",
       "      <td>607</td>\n",
       "      <td>17800000</td>\n",
       "      <td>11800000</td>\n",
       "      <td>35700000</td>\n",
       "      <td>12000000</td>\n",
       "      <td>Approved</td>\n",
       "    </tr>\n",
       "  </tbody>\n",
       "</table>\n",
       "<p>4269 rows × 12 columns</p>\n",
       "</div>"
      ],
      "text/plain": [
       "          no_of_dependents      education  self_employed   income_annum  \\\n",
       "loan_id                                                                   \n",
       "1                        2       Graduate             No        9600000   \n",
       "2                        0   Not Graduate            Yes        4100000   \n",
       "3                        3       Graduate             No        9100000   \n",
       "4                        3       Graduate             No        8200000   \n",
       "5                        5   Not Graduate            Yes        9800000   \n",
       "...                    ...            ...            ...            ...   \n",
       "4265                     5       Graduate            Yes        1000000   \n",
       "4266                     0   Not Graduate            Yes        3300000   \n",
       "4267                     2   Not Graduate             No        6500000   \n",
       "4268                     1   Not Graduate             No        4100000   \n",
       "4269                     1       Graduate             No        9200000   \n",
       "\n",
       "          loan_amount   loan_term   cibil_score   residential_assets_value  \\\n",
       "loan_id                                                                      \n",
       "1            29900000          12           778                    2400000   \n",
       "2            12200000           8           417                    2700000   \n",
       "3            29700000          20           506                    7100000   \n",
       "4            30700000           8           467                   18200000   \n",
       "5            24200000          20           382                   12400000   \n",
       "...               ...         ...           ...                        ...   \n",
       "4265          2300000          12           317                    2800000   \n",
       "4266         11300000          20           559                    4200000   \n",
       "4267         23900000          18           457                    1200000   \n",
       "4268         12800000           8           780                    8200000   \n",
       "4269         29700000          10           607                   17800000   \n",
       "\n",
       "          commercial_assets_value   luxury_assets_value   bank_asset_value  \\\n",
       "loan_id                                                                      \n",
       "1                        17600000              22700000            8000000   \n",
       "2                         2200000               8800000            3300000   \n",
       "3                         4500000              33300000           12800000   \n",
       "4                         3300000              23300000            7900000   \n",
       "5                         8200000              29400000            5000000   \n",
       "...                           ...                   ...                ...   \n",
       "4265                       500000               3300000             800000   \n",
       "4266                      2900000              11000000            1900000   \n",
       "4267                     12400000              18100000            7300000   \n",
       "4268                       700000              14100000            5800000   \n",
       "4269                     11800000              35700000           12000000   \n",
       "\n",
       "         loan_status  \n",
       "loan_id               \n",
       "1           Approved  \n",
       "2           Rejected  \n",
       "3           Rejected  \n",
       "4           Rejected  \n",
       "5           Rejected  \n",
       "...              ...  \n",
       "4265        Rejected  \n",
       "4266        Approved  \n",
       "4267        Rejected  \n",
       "4268        Approved  \n",
       "4269        Approved  \n",
       "\n",
       "[4269 rows x 12 columns]"
      ]
     },
     "execution_count": 3,
     "metadata": {},
     "output_type": "execute_result"
    }
   ],
   "source": [
    "df = pd.read_csv('/kaggle/input/loan-approval-prediction-dataset/loan_approval_dataset.csv',index_col = 'loan_id')\n",
    "df"
   ]
  },
  {
   "cell_type": "code",
   "execution_count": 4,
   "id": "c1b8ae28",
   "metadata": {
    "execution": {
     "iopub.execute_input": "2023-07-31T16:21:31.024771Z",
     "iopub.status.busy": "2023-07-31T16:21:31.024372Z",
     "iopub.status.idle": "2023-07-31T16:21:31.053025Z",
     "shell.execute_reply": "2023-07-31T16:21:31.051838Z"
    },
    "papermill": {
     "duration": 0.044784,
     "end_time": "2023-07-31T16:21:31.055631",
     "exception": false,
     "start_time": "2023-07-31T16:21:31.010847",
     "status": "completed"
    },
    "tags": []
   },
   "outputs": [
    {
     "data": {
      "text/plain": [
       " no_of_dependents            0\n",
       " education                   0\n",
       " self_employed               0\n",
       " income_annum                0\n",
       " loan_amount                 0\n",
       " loan_term                   0\n",
       " cibil_score                 0\n",
       " residential_assets_value    0\n",
       " commercial_assets_value     0\n",
       " luxury_assets_value         0\n",
       " bank_asset_value            0\n",
       " loan_status                 0\n",
       "dtype: int64"
      ]
     },
     "execution_count": 4,
     "metadata": {},
     "output_type": "execute_result"
    }
   ],
   "source": [
    "df[df.isna() == True].count()"
   ]
  },
  {
   "cell_type": "markdown",
   "id": "14127544",
   "metadata": {
    "papermill": {
     "duration": 0.01118,
     "end_time": "2023-07-31T16:21:31.077619",
     "exception": false,
     "start_time": "2023-07-31T16:21:31.066439",
     "status": "completed"
    },
    "tags": []
   },
   "source": [
    "# Note here there is a problem in dataset column as there is space in names which cause problem so let us rename the columns."
   ]
  },
  {
   "cell_type": "code",
   "execution_count": 5,
   "id": "02801746",
   "metadata": {
    "execution": {
     "iopub.execute_input": "2023-07-31T16:21:31.101141Z",
     "iopub.status.busy": "2023-07-31T16:21:31.100759Z",
     "iopub.status.idle": "2023-07-31T16:21:31.109690Z",
     "shell.execute_reply": "2023-07-31T16:21:31.108479Z"
    },
    "papermill": {
     "duration": 0.023485,
     "end_time": "2023-07-31T16:21:31.112087",
     "exception": false,
     "start_time": "2023-07-31T16:21:31.088602",
     "status": "completed"
    },
    "tags": []
   },
   "outputs": [],
   "source": [
    "df.rename(columns = {' no_of_dependents': 'no_of_dependents',\n",
    "                     ' education' : 'education', \n",
    "                     ' self_employed' : 'self_employed',\n",
    "                     ' income_annum' : 'income_annum',\n",
    "                     ' loan_amount' : 'loan_amount',\n",
    "                     ' loan_term' :'loan_term',\n",
    "                     ' cibil_score' : 'cibil_score',\n",
    "                     ' residential_assets_value' : 'residential_assets_value', \n",
    "                     ' commercial_assets_value' : 'commercial_assets_value',\n",
    "                     ' luxury_assets_value' : 'luxury_assets_value',\n",
    "                     ' bank_asset_value' : 'bank_asset_value',\n",
    "                     ' loan_status' : 'loan_status'}, \n",
    "                      inplace = True)\n",
    "df.columns\n",
    "col = ['no_of_dependents', 'income_annum', 'loan_amount', 'loan_term',\n",
    "       'cibil_score', 'residential_assets_value', 'commercial_assets_value',\n",
    "       'luxury_assets_value', 'bank_asset_value', 'education_ Graduate',\n",
    "       'education_ Not Graduate', 'self_employed_ No', 'self_employed_ Yes',\n",
    "       'Total_assets_value']\n",
    "Scaling = ['residential_assets_value','commercial_assets_value',\t'luxury_assets_value'\t,'bank_asset_value']"
   ]
  },
  {
   "cell_type": "code",
   "execution_count": 6,
   "id": "553ec18c",
   "metadata": {
    "execution": {
     "iopub.execute_input": "2023-07-31T16:21:31.134772Z",
     "iopub.status.busy": "2023-07-31T16:21:31.134387Z",
     "iopub.status.idle": "2023-07-31T16:21:31.162598Z",
     "shell.execute_reply": "2023-07-31T16:21:31.161385Z"
    },
    "papermill": {
     "duration": 0.043431,
     "end_time": "2023-07-31T16:21:31.166044",
     "exception": false,
     "start_time": "2023-07-31T16:21:31.122613",
     "status": "completed"
    },
    "tags": []
   },
   "outputs": [],
   "source": [
    "label_encoder  =LabelEncoder()\n",
    "mx = MinMaxScaler()\n",
    "def preprocess(df):\n",
    "    y = df.pop('loan_status')\n",
    "    y = label_encoder.fit_transform(y)\n",
    "    \n",
    "    df = pd.get_dummies(df)\n",
    "    \n",
    "    df['Total_assets_value'] = 0\n",
    "    for i in Scaling:\n",
    "        df['Total_assets_value'] += df[i] \n",
    "    \n",
    "    df[col]=mx.fit_transform(df[col])\n",
    "    df = df.drop(columns = Scaling)\n",
    "    \n",
    "    \n",
    "    \n",
    "    return df,y\n",
    "\n",
    "df,y = preprocess(df)"
   ]
  },
  {
   "cell_type": "markdown",
   "id": "ef1a53d5",
   "metadata": {
    "papermill": {
     "duration": 0.010693,
     "end_time": "2023-07-31T16:21:31.187318",
     "exception": false,
     "start_time": "2023-07-31T16:21:31.176625",
     "status": "completed"
    },
    "tags": []
   },
   "source": [
    "## Graphing"
   ]
  },
  {
   "cell_type": "code",
   "execution_count": 7,
   "id": "846c66be",
   "metadata": {
    "execution": {
     "iopub.execute_input": "2023-07-31T16:21:31.210607Z",
     "iopub.status.busy": "2023-07-31T16:21:31.210174Z",
     "iopub.status.idle": "2023-07-31T16:21:31.747216Z",
     "shell.execute_reply": "2023-07-31T16:21:31.745990Z"
    },
    "papermill": {
     "duration": 0.552043,
     "end_time": "2023-07-31T16:21:31.750242",
     "exception": false,
     "start_time": "2023-07-31T16:21:31.198199",
     "status": "completed"
    },
    "tags": []
   },
   "outputs": [],
   "source": [
    "import seaborn as sns\n",
    "import matplotlib.pyplot as plt"
   ]
  },
  {
   "cell_type": "code",
   "execution_count": 8,
   "id": "88adc3ed",
   "metadata": {
    "execution": {
     "iopub.execute_input": "2023-07-31T16:21:31.776916Z",
     "iopub.status.busy": "2023-07-31T16:21:31.776346Z",
     "iopub.status.idle": "2023-07-31T16:21:33.622186Z",
     "shell.execute_reply": "2023-07-31T16:21:33.621120Z"
    },
    "papermill": {
     "duration": 1.862828,
     "end_time": "2023-07-31T16:21:33.624697",
     "exception": false,
     "start_time": "2023-07-31T16:21:31.761869",
     "status": "completed"
    },
    "tags": []
   },
   "outputs": [
    {
     "data": {
      "text/plain": [
       "<Axes: ylabel='no_of_dependents'>"
      ]
     },
     "execution_count": 8,
     "metadata": {},
     "output_type": "execute_result"
    },
    {
     "data": {
      "image/png": "[encoded data removed]",
      "text/plain": [
       "<Figure size 1800x1000 with 6 Axes>"
      ]
     },
     "metadata": {},
     "output_type": "display_data"
    }
   ],
   "source": [
    "\n",
    "fig, axes = plt.subplots(2, 3, figsize=(18, 10))\n",
    "fig.suptitle('Comparision')\n",
    "sns.barplot( ax=axes[0, 0] ,x=y, y=df['Total_assets_value'])\n",
    "sns.barplot( ax=axes[0, 1] ,x=y, y=df['income_annum'])\n",
    "sns.barplot( ax=axes[0, 2] ,x=y, y=df['loan_amount'])\n",
    "sns.barplot( ax=axes[1, 0] ,x=y, y=df['loan_term'])\n",
    "sns.barplot( ax=axes[1, 1] ,x=y, y=df['cibil_score'])\n",
    "sns.barplot( ax=axes[1, 2] ,x=y, y=df['no_of_dependents'])"
   ]
  },
  {
   "cell_type": "markdown",
   "id": "acb40510",
   "metadata": {
    "papermill": {
     "duration": 0.012408,
     "end_time": "2023-07-31T16:21:33.649745",
     "exception": false,
     "start_time": "2023-07-31T16:21:33.637337",
     "status": "completed"
    },
    "tags": []
   },
   "source": [
    "# Modeling"
   ]
  },
  {
   "cell_type": "code",
   "execution_count": 9,
   "id": "b57a47d6",
   "metadata": {
    "execution": {
     "iopub.execute_input": "2023-07-31T16:21:33.677814Z",
     "iopub.status.busy": "2023-07-31T16:21:33.677095Z",
     "iopub.status.idle": "2023-07-31T16:21:33.834118Z",
     "shell.execute_reply": "2023-07-31T16:21:33.832389Z"
    },
    "papermill": {
     "duration": 0.175605,
     "end_time": "2023-07-31T16:21:33.838057",
     "exception": false,
     "start_time": "2023-07-31T16:21:33.662452",
     "status": "completed"
    },
    "tags": []
   },
   "outputs": [],
   "source": [
    "import torch\n",
    "torch.__version__\n",
    "from sklearn.model_selection import train_test_split"
   ]
  },
  {
   "cell_type": "code",
   "execution_count": 10,
   "id": "f1daf367",
   "metadata": {
    "execution": {
     "iopub.execute_input": "2023-07-31T16:21:33.863825Z",
     "iopub.status.busy": "2023-07-31T16:21:33.863377Z",
     "iopub.status.idle": "2023-07-31T16:21:33.872320Z",
     "shell.execute_reply": "2023-07-31T16:21:33.871048Z"
    },
    "papermill": {
     "duration": 0.024651,
     "end_time": "2023-07-31T16:21:33.874880",
     "exception": false,
     "start_time": "2023-07-31T16:21:33.850229",
     "status": "completed"
    },
    "tags": []
   },
   "outputs": [
    {
     "data": {
      "text/plain": [
       "10"
      ]
     },
     "execution_count": 10,
     "metadata": {},
     "output_type": "execute_result"
    }
   ],
   "source": [
    "len(df.columns)"
   ]
  },
  {
   "cell_type": "code",
   "execution_count": 11,
   "id": "b962ec2f",
   "metadata": {
    "execution": {
     "iopub.execute_input": "2023-07-31T16:21:33.902109Z",
     "iopub.status.busy": "2023-07-31T16:21:33.901689Z",
     "iopub.status.idle": "2023-07-31T16:21:33.911925Z",
     "shell.execute_reply": "2023-07-31T16:21:33.909930Z"
    },
    "papermill": {
     "duration": 0.028101,
     "end_time": "2023-07-31T16:21:33.914809",
     "exception": false,
     "start_time": "2023-07-31T16:21:33.886708",
     "status": "completed"
    },
    "tags": []
   },
   "outputs": [],
   "source": [
    "X_train, X_test,y_train, y_test = train_test_split(df,y ,\n",
    "                                   random_state=104, \n",
    "                                   test_size=0.25, \n",
    "                                   shuffle=True)"
   ]
  },
  {
   "cell_type": "code",
   "execution_count": 12,
   "id": "47c33a54",
   "metadata": {
    "execution": {
     "iopub.execute_input": "2023-07-31T16:21:33.940354Z",
     "iopub.status.busy": "2023-07-31T16:21:33.939863Z",
     "iopub.status.idle": "2023-07-31T16:21:33.949087Z",
     "shell.execute_reply": "2023-07-31T16:21:33.947317Z"
    },
    "papermill": {
     "duration": 0.0256,
     "end_time": "2023-07-31T16:21:33.952149",
     "exception": false,
     "start_time": "2023-07-31T16:21:33.926549",
     "status": "completed"
    },
    "tags": []
   },
   "outputs": [
    {
     "data": {
      "text/plain": [
       "array([[0.4       , 0.96907216, 0.75510204, ..., 1.        , 0.        ,\n",
       "        0.55703212],\n",
       "       [0.        , 0.40206186, 0.30357143, ..., 0.        , 1.        ,\n",
       "        0.18383167],\n",
       "       [0.6       , 0.91752577, 0.75      , ..., 1.        , 0.        ,\n",
       "        0.6345515 ],\n",
       "       ...,\n",
       "       [0.4       , 0.64948454, 0.60204082, ..., 1.        , 0.        ,\n",
       "        0.42746401],\n",
       "       [0.2       , 0.40206186, 0.31887755, ..., 1.        , 0.        ,\n",
       "        0.3145072 ],\n",
       "       [0.2       , 0.92783505, 0.75      , ..., 1.        , 0.        ,\n",
       "        0.85160576]])"
      ]
     },
     "execution_count": 12,
     "metadata": {},
     "output_type": "execute_result"
    }
   ],
   "source": [
    " df.values"
   ]
  },
  {
   "cell_type": "code",
   "execution_count": 13,
   "id": "9ddb420d",
   "metadata": {
    "execution": {
     "iopub.execute_input": "2023-07-31T16:21:33.981694Z",
     "iopub.status.busy": "2023-07-31T16:21:33.980929Z",
     "iopub.status.idle": "2023-07-31T16:21:34.044854Z",
     "shell.execute_reply": "2023-07-31T16:21:34.042999Z"
    },
    "papermill": {
     "duration": 0.082055,
     "end_time": "2023-07-31T16:21:34.047764",
     "exception": false,
     "start_time": "2023-07-31T16:21:33.965709",
     "status": "completed"
    },
    "tags": []
   },
   "outputs": [],
   "source": [
    "\n",
    "X_train = torch.tensor(X_train.values, dtype=torch.float32)\n",
    "X_test = torch.tensor(X_test.values, dtype=torch.float32)\n",
    "y_train = torch.tensor(y_train, dtype=torch.float32)\n",
    "y_test = torch.tensor(y_test, dtype=torch.float32)"
   ]
  },
  {
   "cell_type": "code",
   "execution_count": 14,
   "id": "2fd32c90",
   "metadata": {
    "execution": {
     "iopub.execute_input": "2023-07-31T16:21:34.074734Z",
     "iopub.status.busy": "2023-07-31T16:21:34.074256Z",
     "iopub.status.idle": "2023-07-31T16:21:34.082625Z",
     "shell.execute_reply": "2023-07-31T16:21:34.081399Z"
    },
    "papermill": {
     "duration": 0.024643,
     "end_time": "2023-07-31T16:21:34.085150",
     "exception": false,
     "start_time": "2023-07-31T16:21:34.060507",
     "status": "completed"
    },
    "tags": []
   },
   "outputs": [
    {
     "data": {
      "text/plain": [
       "'cpu'"
      ]
     },
     "execution_count": 14,
     "metadata": {},
     "output_type": "execute_result"
    }
   ],
   "source": [
    "import torch\n",
    "from torch import nn\n",
    "\n",
    "device = 'cuda' if torch.cuda.is_available() else 'cpu'\n",
    "device"
   ]
  },
  {
   "cell_type": "code",
   "execution_count": 15,
   "id": "c22bfab3",
   "metadata": {
    "execution": {
     "iopub.execute_input": "2023-07-31T16:21:34.113174Z",
     "iopub.status.busy": "2023-07-31T16:21:34.112514Z",
     "iopub.status.idle": "2023-07-31T16:21:34.145891Z",
     "shell.execute_reply": "2023-07-31T16:21:34.144592Z"
    },
    "papermill": {
     "duration": 0.0505,
     "end_time": "2023-07-31T16:21:34.148379",
     "exception": false,
     "start_time": "2023-07-31T16:21:34.097879",
     "status": "completed"
    },
    "tags": []
   },
   "outputs": [
    {
     "data": {
      "text/plain": [
       "loaner(\n",
       "  (layer1): Linear(in_features=10, out_features=5, bias=True)\n",
       "  (layer2): Linear(in_features=5, out_features=1, bias=True)\n",
       ")"
      ]
     },
     "execution_count": 15,
     "metadata": {},
     "output_type": "execute_result"
    }
   ],
   "source": [
    "# One way to create\n",
    "class loaner(nn.Module):\n",
    "    def __init__(self):\n",
    "        super().__init__()\n",
    "        \n",
    "        self.layer1 = nn.Linear(in_features = 10 , out_features= 5 )\n",
    "        self.layer2 = nn.Linear(in_features =  5 , out_features= 1 )\n",
    "        \n",
    "    def forward(self,x):\n",
    "         return  self.layer2(self.layer1(x))\n",
    "\n",
    "model = loaner().to(device)\n",
    "model"
   ]
  },
  {
   "cell_type": "code",
   "execution_count": null,
   "id": "dc6026b7",
   "metadata": {
    "papermill": {
     "duration": 0.013068,
     "end_time": "2023-07-31T16:21:34.174449",
     "exception": false,
     "start_time": "2023-07-31T16:21:34.161381",
     "status": "completed"
    },
    "tags": []
   },
   "outputs": [],
   "source": []
  },
  {
   "cell_type": "code",
   "execution_count": 16,
   "id": "2401aed8",
   "metadata": {
    "execution": {
     "iopub.execute_input": "2023-07-31T16:21:34.200885Z",
     "iopub.status.busy": "2023-07-31T16:21:34.200186Z",
     "iopub.status.idle": "2023-07-31T16:21:34.210641Z",
     "shell.execute_reply": "2023-07-31T16:21:34.209480Z"
    },
    "papermill": {
     "duration": 0.02674,
     "end_time": "2023-07-31T16:21:34.213228",
     "exception": false,
     "start_time": "2023-07-31T16:21:34.186488",
     "status": "completed"
    },
    "tags": []
   },
   "outputs": [
    {
     "data": {
      "text/plain": [
       "Sequential(\n",
       "  (0): Linear(in_features=10, out_features=10, bias=True)\n",
       "  (1): Linear(in_features=10, out_features=5, bias=True)\n",
       "  (2): Linear(in_features=5, out_features=1, bias=True)\n",
       ")"
      ]
     },
     "execution_count": 16,
     "metadata": {},
     "output_type": "execute_result"
    }
   ],
   "source": [
    "model = nn.Sequential(\n",
    "    nn.Linear(in_features = 10, out_features =10),\n",
    "    nn.Linear(in_features = 10, out_features =5),\n",
    "    nn.Linear(in_features = 5, out_features =1)).to(device)\n",
    "\n",
    "loss_fn = nn.BCEWithLogitsLoss()\n",
    "optimizer = torch.optim.SGD(params = model.parameters(),\n",
    "                           lr = 0.7)\n",
    "model"
   ]
  },
  {
   "cell_type": "code",
   "execution_count": 17,
   "id": "2c57c3f0",
   "metadata": {
    "execution": {
     "iopub.execute_input": "2023-07-31T16:21:34.240864Z",
     "iopub.status.busy": "2023-07-31T16:21:34.240196Z",
     "iopub.status.idle": "2023-07-31T16:21:34.246708Z",
     "shell.execute_reply": "2023-07-31T16:21:34.245690Z"
    },
    "papermill": {
     "duration": 0.023276,
     "end_time": "2023-07-31T16:21:34.249108",
     "exception": false,
     "start_time": "2023-07-31T16:21:34.225832",
     "status": "completed"
    },
    "tags": []
   },
   "outputs": [],
   "source": [
    "def accuracy_fn(y_true,y_preds):\n",
    "    correct = torch.eq(y_true,y_preds).sum().item()\n",
    "    acc = (correct/len(y_preds) * 100)\n",
    "    return acc"
   ]
  },
  {
   "cell_type": "markdown",
   "id": "bd239af9",
   "metadata": {
    "papermill": {
     "duration": 0.012599,
     "end_time": "2023-07-31T16:21:34.275485",
     "exception": false,
     "start_time": "2023-07-31T16:21:34.262886",
     "status": "completed"
    },
    "tags": []
   },
   "source": [
    "## preparing training and testing loop"
   ]
  },
  {
   "cell_type": "code",
   "execution_count": 18,
   "id": "e9d800ac",
   "metadata": {
    "execution": {
     "iopub.execute_input": "2023-07-31T16:21:34.303468Z",
     "iopub.status.busy": "2023-07-31T16:21:34.302233Z",
     "iopub.status.idle": "2023-07-31T16:21:34.309532Z",
     "shell.execute_reply": "2023-07-31T16:21:34.308247Z"
    },
    "papermill": {
     "duration": 0.024174,
     "end_time": "2023-07-31T16:21:34.312594",
     "exception": false,
     "start_time": "2023-07-31T16:21:34.288420",
     "status": "completed"
    },
    "tags": []
   },
   "outputs": [],
   "source": [
    "x_train , y_train = X_train.to(device) , y_train.to(device)\n",
    "x_test , y_test = X_test.to(device) , y_test.to(device)"
   ]
  },
  {
   "cell_type": "code",
   "execution_count": 19,
   "id": "8ce1f613",
   "metadata": {
    "execution": {
     "iopub.execute_input": "2023-07-31T16:21:34.340505Z",
     "iopub.status.busy": "2023-07-31T16:21:34.339792Z",
     "iopub.status.idle": "2023-07-31T16:21:34.642354Z",
     "shell.execute_reply": "2023-07-31T16:21:34.640814Z"
    },
    "papermill": {
     "duration": 0.321343,
     "end_time": "2023-07-31T16:21:34.646092",
     "exception": false,
     "start_time": "2023-07-31T16:21:34.324749",
     "status": "completed"
    },
    "tags": []
   },
   "outputs": [
    {
     "name": "stdout",
     "output_type": "stream",
     "text": [
      "Epochs :0 | loss: 0.66427 | acc: 62.35551% | test_loss: 0.66361 | test_acc: 61.79775% \n",
      "Epochs :10 | loss: 0.64021 | acc: 62.35551% | test_loss: 0.63739 | test_acc: 61.79775% \n",
      "Epochs :20 | loss: 0.55485 | acc: 67.72883% | test_loss: 0.53715 | test_acc: 69.75655% \n",
      "Epochs :30 | loss: 0.31422 | acc: 90.56545% | test_loss: 0.30339 | test_acc: 90.44944% \n",
      "Epochs :40 | loss: 0.63742 | acc: 54.98282% | test_loss: 0.56224 | test_acc: 86.89139% \n",
      "Epochs :50 | loss: 0.27232 | acc: 91.50266% | test_loss: 0.26976 | test_acc: 90.26217% \n",
      "Epochs :60 | loss: 0.23252 | acc: 90.97157% | test_loss: 0.25472 | test_acc: 91.10487% \n",
      "Epochs :70 | loss: 0.26767 | acc: 91.84630% | test_loss: 0.26530 | test_acc: 90.63670% \n",
      "Epochs :80 | loss: 0.22724 | acc: 92.18994% | test_loss: 0.23797 | test_acc: 90.82397% \n",
      "Epochs :90 | loss: 0.22300 | acc: 92.22118% | test_loss: 0.23566 | test_acc: 90.54307% \n"
     ]
    }
   ],
   "source": [
    "epoch = 100\n",
    "\n",
    "\n",
    "\n",
    "for epochs in range(epoch):\n",
    "    model.train()\n",
    "    \n",
    "    #forwaed pass\n",
    "    y_logits = model(X_train).squeeze()\n",
    "    y_pred = torch.round(torch.sigmoid(y_logits))\n",
    "    \n",
    "    \n",
    "    #calculate loss\n",
    "    loss = loss_fn(y_logits,y_train)\n",
    "    \n",
    "    acc = accuracy_fn(y_true = y_train,\n",
    "                      y_preds = y_pred)\n",
    "    \n",
    "    #optimizer\n",
    "    optimizer.zero_grad()\n",
    "    \n",
    "    loss.backward()\n",
    "    \n",
    "    optimizer.step()\n",
    "    \n",
    "    model.eval()\n",
    "    with torch.inference_mode():\n",
    "        test_logits = model(X_test).squeeze()\n",
    "        test_preds = torch.round(torch.sigmoid(test_logits))\n",
    "        \n",
    "        test_loss = loss_fn(test_logits,\n",
    "                           y_test)\n",
    "        test_acc = accuracy_fn(y_true = y_test,\n",
    "                              y_preds = test_preds)\n",
    "    \n",
    "    if epochs % 10 == 0:\n",
    "         print(f\"Epochs :{epochs} | loss: {loss:.{5}f} | acc: {acc:.{5}f}% | test_loss: {test_loss:.{5}f} | test_acc: {test_acc:.{5}f}% \")"
   ]
  },
  {
   "cell_type": "code",
   "execution_count": null,
   "id": "01dddc47",
   "metadata": {
    "papermill": {
     "duration": 0.013315,
     "end_time": "2023-07-31T16:21:34.674042",
     "exception": false,
     "start_time": "2023-07-31T16:21:34.660727",
     "status": "completed"
    },
    "tags": []
   },
   "outputs": [],
   "source": []
  },
  {
   "cell_type": "code",
   "execution_count": null,
   "id": "d096e87b",
   "metadata": {
    "papermill": {
     "duration": 0.012049,
     "end_time": "2023-07-31T16:21:34.698514",
     "exception": false,
     "start_time": "2023-07-31T16:21:34.686465",
     "status": "completed"
    },
    "tags": []
   },
   "outputs": [],
   "source": []
  },
  {
   "cell_type": "code",
   "execution_count": null,
   "id": "51f7aaf9",
   "metadata": {
    "papermill": {
     "duration": 0.013518,
     "end_time": "2023-07-31T16:21:34.725366",
     "exception": false,
     "start_time": "2023-07-31T16:21:34.711848",
     "status": "completed"
    },
    "tags": []
   },
   "outputs": [],
   "source": []
  },
  {
   "cell_type": "markdown",
   "id": "a56834d2",
   "metadata": {
    "papermill": {
     "duration": 0.013163,
     "end_time": "2023-07-31T16:21:34.752776",
     "exception": false,
     "start_time": "2023-07-31T16:21:34.739613",
     "status": "completed"
    },
    "tags": []
   },
   "source": [
    "# Other model trainings"
   ]
  },
  {
   "cell_type": "code",
   "execution_count": 20,
   "id": "4f6d0a3c",
   "metadata": {
    "execution": {
     "iopub.execute_input": "2023-07-31T16:21:34.782351Z",
     "iopub.status.busy": "2023-07-31T16:21:34.781853Z",
     "iopub.status.idle": "2023-07-31T16:21:43.349561Z",
     "shell.execute_reply": "2023-07-31T16:21:43.347372Z"
    },
    "papermill": {
     "duration": 8.586395,
     "end_time": "2023-07-31T16:21:43.352531",
     "exception": false,
     "start_time": "2023-07-31T16:21:34.766136",
     "status": "completed"
    },
    "tags": []
   },
   "outputs": [
    {
     "name": "stderr",
     "output_type": "stream",
     "text": [
      "/opt/conda/lib/python3.10/site-packages/sklearn/neural_network/_multilayer_perceptron.py:686: ConvergenceWarning: Stochastic Optimizer: Maximum iterations (200) reached and the optimization hasn't converged yet.\n",
      "  warnings.warn(\n"
     ]
    },
    {
     "name": "stdout",
     "output_type": "stream",
     "text": [
      "                     Model  Accuracy\n",
      "0      Logistic Regression     0.830\n",
      "1            Decision Tree     0.835\n",
      "2            Random Forest     0.875\n",
      "3        Gradient Boosting     0.900\n",
      "4      K-Nearest Neighbors     0.800\n",
      "5              Naive Bayes     0.810\n",
      "6   Support Vector Machine     0.830\n",
      "7           Neural Network     0.830\n",
      "8                  XGBoost     0.880\n",
      "9                 LightGBM     0.880\n",
      "10                CatBoost     0.875\n",
      "11             Extra Trees     0.870\n"
     ]
    }
   ],
   "source": [
    "import pandas as pd\n",
    "import numpy as np\n",
    "from sklearn.datasets import make_classification\n",
    "from sklearn.model_selection import train_test_split\n",
    "from sklearn.metrics import accuracy_score\n",
    "from sklearn.linear_model import LogisticRegression\n",
    "from sklearn.tree import DecisionTreeClassifier\n",
    "from sklearn.ensemble import RandomForestClassifier, GradientBoostingClassifier\n",
    "from sklearn.neighbors import KNeighborsClassifier\n",
    "from sklearn.naive_bayes import GaussianNB\n",
    "from sklearn.svm import SVC\n",
    "from sklearn.neural_network import MLPClassifier\n",
    "from xgboost import XGBClassifier\n",
    "from lightgbm import LGBMClassifier\n",
    "from catboost import CatBoostClassifier\n",
    "from sklearn.ensemble import ExtraTreesClassifier\n",
    "\n",
    "# Generate sample data\n",
    "X, y = make_classification(n_samples=1000, n_features=10, n_classes=2, random_state=42)\n",
    "\n",
    "# Split the data into training and testing sets\n",
    "X_train, X_test, y_train, y_test = train_test_split(X, y, test_size=0.2, random_state=42)\n",
    "\n",
    "# Initialize the classification models\n",
    "models = [\n",
    "    ('Logistic Regression', LogisticRegression()),\n",
    "    ('Decision Tree', DecisionTreeClassifier()),\n",
    "    ('Random Forest', RandomForestClassifier(n_estimators=100)),\n",
    "    ('Gradient Boosting', GradientBoostingClassifier(n_estimators=100)),\n",
    "    ('K-Nearest Neighbors', KNeighborsClassifier()),\n",
    "    ('Naive Bayes', GaussianNB()),\n",
    "    ('Support Vector Machine', SVC()),\n",
    "    ('Neural Network', MLPClassifier()),\n",
    "    ('XGBoost', XGBClassifier()),\n",
    "    ('LightGBM', LGBMClassifier()),\n",
    "    ('CatBoost', CatBoostClassifier(verbose=0)),\n",
    "    ('Extra Trees', ExtraTreesClassifier())\n",
    "]\n",
    "\n",
    "# Train and evaluate each model\n",
    "results = []\n",
    "for name, model in models:\n",
    "    model.fit(X_train, y_train)\n",
    "    y_pred = model.predict(X_test)\n",
    "    accuracy = accuracy_score(y_test, y_pred)\n",
    "    results.append((name, accuracy))\n",
    "\n",
    "# Display the results\n",
    "results_df = pd.DataFrame(results, columns=['Model', 'Accuracy'])\n",
    "print(results_df)\n"
   ]
  }
 ],
 "metadata": {
  "kernelspec": {
   "display_name": "Python 3",
   "language": "python",
   "name": "python3"
  },
  "language_info": {
   "codemirror_mode": {
    "name": "ipython",
    "version": 3
   },
   "file_extension": ".py",
   "mimetype": "text/x-python",
   "name": "python",
   "nbconvert_exporter": "python",
   "pygments_lexer": "ipython3",
   "version": "3.10.12"
  },
  "papermill": {
   "default_parameters": {},
   "duration": 33.864553,
   "end_time": "2023-07-31T16:21:45.195111",
   "environment_variables": {},
   "exception": null,
   "input_path": "__notebook__.ipynb",
   "output_path": "__notebook__.ipynb",
   "parameters": {},
   "start_time": "2023-07-31T16:21:11.330558",
   "version": "2.4.0"
  }
 },
 "nbformat": 4,
 "nbformat_minor": 5
}
